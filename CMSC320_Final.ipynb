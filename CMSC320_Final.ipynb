{
  "nbformat": 4,
  "nbformat_minor": 0,
  "metadata": {
    "colab": {
      "provenance": [],
      "include_colab_link": true
    },
    "kernelspec": {
      "name": "python3",
      "display_name": "Python 3"
    },
    "language_info": {
      "name": "python"
    }
  },
  "cells": [
    {
      "cell_type": "markdown",
      "metadata": {
        "id": "view-in-github",
        "colab_type": "text"
      },
      "source": [
        "<a href=\"https://colab.research.google.com/github/trishaa4144/cmsc320-final/blob/main/CMSC320_Final.ipynb\" target=\"_parent\"><img src=\"https://colab.research.google.com/assets/colab-badge.svg\" alt=\"Open In Colab\"/></a>"
      ]
    },
    {
      "cell_type": "markdown",
      "source": [
        "# Rat Sightings in New York City\n",
        "\n",
        "### Fall 2024 Data Science Project\n",
        "\n",
        "### Your name(s): Lasya Muthyam, Sriya Peddinti, Trisha Anand, Christina Xu"
      ],
      "metadata": {
        "id": "IZpVB4u1Oq_m"
      }
    },
    {
      "cell_type": "markdown",
      "source": [
        "### Contributions\n",
        "Trisha worked on parts A-H. Specifically, she worked on planning, exploratory data analysis, visualization, and statistical tests such as ANOVA test across boroughs for the rat sightings dataset. Additionally, she contributed to planning ML model development, and the final writeup.\n",
        "\n",
        "Sriya worked on the dataset curation and preprocessing, data exploration, and visualization of the income dataset. This involved cleaning and preparing the income and the zipcode-borough dataset. She created a visualization with this merged dataset as a part of data exploration. She also worked to combine and clean the new merged income and rat cleaning dataset to prepare it for ML training.\n",
        "\n",
        "Lasya: I actively contributed to all parts A-H. Specifically, I worked on cleaning and analyzing the Rat Sightings dataset and then designed, trained, and created visualizations/metrics for the random forest classifier model that predicts the concentration of rat sightings in an area given the latitude, longitude, location type, Average Income (Dollars), total number of households, and seasonality.\n",
        "\n",
        "Christina:\n"
      ],
      "metadata": {
        "id": "8Xz-eD_jPChD"
      }
    },
    {
      "cell_type": "markdown",
      "source": [
        "# Introduction\n",
        "\n",
        "Researching rat sightings in New York City is crucial for addressing pressing safety and hygiene concerns that impact public health and urban living conditions. Rats are known carriers of diseases such as leptospirosis, hantavirus, and Tularemia, which can pose significant risks to human health. By analyzing data on rat sightings, we can identify hotspots where infestations are most prevalent, leading to targeted interventions and preventive measures. The chosen Rat Sightings dataset contains data points on over 250k+ rat sightings on 35+ parameters, including time, location, and neighborhoods, providing us with a rich dataset of information on rat populations in New York City."
      ],
      "metadata": {
        "id": "9QnhOtPbMaVI"
      }
    },
    {
      "cell_type": "markdown",
      "source": [
        "# Data Curation & Sources\n",
        "\n",
        "**Main Dataset**: [Rat Sightings Dataset](https://data.cityofnewyork.us/Social-Services/Rat-Sightings/3q43-55fe/about_data): A dataset containing rat sightings (311 service requests) in New York City from 2010 till September 17, 2024, which came from the NYC Open Data website.\n",
        "\n",
        "**Supplementary Datasets**:\n",
        "*   [Income dataset](https://www.kaggle.com/datasets/claygendron/us-household-income-by-zip-code-2021-2011?resource=download): This dataset contains US household income by zip code from 2021-2011, which is from a US census dataset that we found on Kaggle.\n",
        "*   [Zipcode-Borough](https://data.ny.gov/Government-Finance/New-York-State-ZIP-Codes-County-FIPS-Cross-Referen/juva-r6g2/data): This dataset contains New York State ZIP codes, counties, and FIPS codes from the New York State Office of Information Technology Services.\n",
        "*   [Population Density](https://simplemaps.com/data/us-zips): Population of each ZIP, taken from US census data, and found on the simplemaps website."
      ],
      "metadata": {
        "id": "G1hQqI7gPjLr"
      }
    },
    {
      "cell_type": "markdown",
      "source": [
        "# Part 1: Initial Data Cleaning: Rat Sightings\n",
        "\n",
        "We will start by cleaning our dataset to remove null values, and narrow our dataset down to certain columns.\n",
        "\n",
        "First, we import our dataset."
      ],
      "metadata": {
        "id": "nFivFRxYFKys"
      }
    },
    {
      "cell_type": "code",
      "execution_count": 49,
      "metadata": {
        "id": "lWmFkTrVwUAG"
      },
      "outputs": [],
      "source": [
        "import pandas as pd\n",
        "import matplotlib.pyplot as plt\n",
        "from scipy import stats\n",
        "\n",
        "df = pd.read_csv(\"Rat_Sightings_20240917.csv\", low_memory=False)"
      ]
    },
    {
      "cell_type": "markdown",
      "source": [
        "We filter out unnecessary/sparse columns like \"Taxi Pick Up Location\", \"Bridge Highway Name\", etc. This way, we cut the number of columns from 38 to 7 columns.\n",
        "\n",
        "We are deciding to look at the following important columns: Created Date, Location Type, Incident Zip, Community Board, Borough, Latitude, Longitude.\n"
      ],
      "metadata": {
        "id": "7AWKse5sF9IU"
      }
    },
    {
      "cell_type": "code",
      "source": [
        "# Keep only the necessary columns\n",
        "df = df[['Created Date', 'Location Type', 'Incident Zip', 'Community Board', 'Borough', 'Latitude', 'Longitude']]"
      ],
      "metadata": {
        "id": "cZPM_F6hDOAI"
      },
      "execution_count": 50,
      "outputs": []
    },
    {
      "cell_type": "markdown",
      "source": [
        "Next, we remove Boroughs that are \"Unspecified\" from the dataframe."
      ],
      "metadata": {
        "id": "6eLDgVfVXMD6"
      }
    },
    {
      "cell_type": "code",
      "source": [
        "# Drop rows with unspecified boroughs\n",
        "df = df[df['Borough'] != 'Unspecified']\n",
        "df.reset_index(drop=True, inplace=True)"
      ],
      "metadata": {
        "id": "dLqNIbd2ZpWg"
      },
      "execution_count": 51,
      "outputs": []
    },
    {
      "cell_type": "markdown",
      "source": [
        "Next, drop NA values and duplicates from the dataset."
      ],
      "metadata": {
        "id": "kDwFArzpsVvt"
      }
    },
    {
      "cell_type": "code",
      "source": [
        "df.dropna(subset=['Created Date', 'Location Type', 'Incident Zip', 'Community Board', 'Borough', 'Latitude', 'Longitude'], inplace=True)"
      ],
      "metadata": {
        "id": "c2onp8u4sTjM"
      },
      "execution_count": 52,
      "outputs": []
    },
    {
      "cell_type": "markdown",
      "source": [
        "Finally, we will map Location Types to non-duplicate category classifications."
      ],
      "metadata": {
        "id": "7iNMnQNyCalC"
      }
    },
    {
      "cell_type": "code",
      "source": [
        "# Get unique values in 'Location Type'\n",
        "unique_location_types = df['Location Type'].unique()\n",
        "\n",
        "# Define mapping for residential categories\n",
        "residential_mapping = {\n",
        "    'Single Room Occupancy (SRO)': 'Single',\n",
        "    '1-2 Family Dwelling': '1-2 Family Apartment',\n",
        "    '1-2 FamilyDwelling': '1-2 Family Apartment',\n",
        "    '3+ Family Apt. Building': '3+ Family',\n",
        "    '3+ Family Apartment Building': '3+ Family',\n",
        "    '3+ Family Apt.': '3+ Family',\n",
        "    '3+Family Apt.': '3+ Family',\n",
        "    '3+ Family Apt': '3+ Family',\n",
        "    '1-3 Family Dwelling': '1-3 Family Dwelling',\n",
        "    '1-3 Family Mixed Use Building': '1-3 Family Mixed',\n",
        "    '1-2 Family Mixed Use Building': '1-2 Family Mixed',\n",
        "    '3+ Family Mixed Use Building': '3+ Family Mixed',\n",
        "    'Private House': 'Private House',\n",
        "    'Apartment': 'Apartment',\n",
        "    'Residential Property': 'Residential Property'\n",
        "}\n",
        "\n",
        "# Apply mapping to the 'Location Type' column for residential data\n",
        "df['Location Type'] = df['Location Type'].replace(residential_mapping)"
      ],
      "metadata": {
        "id": "ccP7kTkmCYI_"
      },
      "execution_count": 53,
      "outputs": []
    },
    {
      "cell_type": "markdown",
      "source": [
        "Now that we have done the initial cleaning of our dataset, lets proceed forward and visualize how rat sightings compare across location, time, and income level.\n",
        "\n",
        "First, let's visualize how rat sightings compare across Zip Codes"
      ],
      "metadata": {
        "id": "yzYC3ZrdnfHp"
      }
    },
    {
      "cell_type": "markdown",
      "source": [
        "# Part 2: General EDA & Characteristics of Data\n",
        "\n",
        "\n",
        "Next, we will continue cleaning our dataset while getting key insights on our data results."
      ],
      "metadata": {
        "id": "oW2b6wv3ntyK"
      }
    },
    {
      "cell_type": "markdown",
      "source": [
        "## Main Characteristics"
      ],
      "metadata": {
        "id": "lxSaxs2QHR6N"
      }
    },
    {
      "cell_type": "code",
      "source": [
        "# Rough overview of features we want to consider (main characteristics of dataset)\n",
        "\n",
        "# All boroughs and number of sightings in each\n",
        "boroughs = df.groupby(['Borough']).groups.keys()\n",
        "print(\"*** Boroughs ***\")\n",
        "print(list(boroughs))\n",
        "mode = df.groupby(['Borough']).count()['Created Date']\n",
        "print(mode)"
      ],
      "metadata": {
        "colab": {
          "base_uri": "https://localhost:8080/"
        },
        "id": "Doy34zZQGr3S",
        "outputId": "706aa291-7eaf-4909-f445-656ac7002b73"
      },
      "execution_count": 54,
      "outputs": [
        {
          "output_type": "stream",
          "name": "stdout",
          "text": [
            "*** Boroughs ***\n",
            "['BRONX', 'BROOKLYN', 'MANHATTAN', 'QUEENS', 'STATEN ISLAND']\n",
            "Borough\n",
            "BRONX            45183\n",
            "BROOKLYN         92179\n",
            "MANHATTAN        65173\n",
            "QUEENS           38457\n",
            "STATEN ISLAND     9778\n",
            "Name: Created Date, dtype: int64\n"
          ]
        }
      ]
    },
    {
      "cell_type": "markdown",
      "source": [
        "There are 5 boroughs from which rat sightings were reported (as there are 5 boroughs in New York City). We see from the counts of sightings per each borough that Brooklyn has the highest count, 91100, and Staten Island has the fewest, 9684."
      ],
      "metadata": {
        "id": "IudKNMhTGsO1"
      }
    },
    {
      "cell_type": "code",
      "source": [
        "# All location types and number of sightings in each\n",
        "location_type = df.groupby(['Location Type']).groups.keys()\n",
        "print(\"*** Location Type ***\")\n",
        "print(list(location_type))\n",
        "mode = df.groupby(['Location Type']).count()['Created Date']\n",
        "print(mode)"
      ],
      "metadata": {
        "colab": {
          "base_uri": "https://localhost:8080/"
        },
        "id": "un0fYZsJGwsu",
        "outputId": "39e1e5ee-0d21-4ccd-a937-517b32eecf5d"
      },
      "execution_count": 55,
      "outputs": [
        {
          "output_type": "stream",
          "name": "stdout",
          "text": [
            "*** Location Type ***\n",
            "['1-2 Family Apartment', '1-2 Family Mixed', '1-3 Family Dwelling', '1-3 Family Mixed', '3+ Family', '3+ Family Mixed', 'Abandoned Building', 'Apartment', 'Beach', 'Building (Non-Residential)', 'Cafeteria - Public School', 'Catch Basin/Sewer', 'Catering Service', 'Commercial Building', 'Commercial Property', 'Construction Site', 'Day Care/Nursery', 'Government Building', 'Grocery Store', 'Ground', 'Hospital', 'Office Building', 'Other', 'Other (Explain Below)', 'Parking Lot/Garage', 'Private House', 'Public Garden', 'Public Stairs', 'Residence', 'Residential Building', 'Residential Property', 'Restaurant', 'Restaurant/Bar/Deli/Bakery', 'Retail Store', 'School', 'School/Pre-School', 'Single', 'Store', 'Street Area', 'Street Fair Vendor', 'Summer Camp', 'Vacant Building', 'Vacant Lot', 'Vacant Lot/Property']\n",
            "Location Type\n",
            "1-2 Family Apartment           47176\n",
            "1-2 Family Mixed                4124\n",
            "1-3 Family Dwelling               15\n",
            "1-3 Family Mixed                   2\n",
            "3+ Family                     106368\n",
            "3+ Family Mixed                16387\n",
            "Abandoned Building                15\n",
            "Apartment                         82\n",
            "Beach                              2\n",
            "Building (Non-Residential)        23\n",
            "Cafeteria - Public School          1\n",
            "Catch Basin/Sewer               2310\n",
            "Catering Service                   1\n",
            "Commercial Building            13660\n",
            "Commercial Property                2\n",
            "Construction Site               5487\n",
            "Day Care/Nursery                 251\n",
            "Government Building              514\n",
            "Grocery Store                      2\n",
            "Ground                             6\n",
            "Hospital                         163\n",
            "Office Building                  236\n",
            "Other                             71\n",
            "Other (Explain Below)          38067\n",
            "Parking Lot/Garage              2662\n",
            "Private House                      1\n",
            "Public Garden                   1024\n",
            "Public Stairs                    200\n",
            "Residence                         71\n",
            "Residential Building             215\n",
            "Residential Property              12\n",
            "Restaurant                        11\n",
            "Restaurant/Bar/Deli/Bakery         5\n",
            "Retail Store                       1\n",
            "School                             3\n",
            "School/Pre-School                416\n",
            "Single                           280\n",
            "Store                             13\n",
            "Street Area                      382\n",
            "Street Fair Vendor                 1\n",
            "Summer Camp                        8\n",
            "Vacant Building                 3949\n",
            "Vacant Lot                      6549\n",
            "Vacant Lot/Property                2\n",
            "Name: Created Date, dtype: int64\n"
          ]
        }
      ]
    },
    {
      "cell_type": "markdown",
      "source": [
        "There are 44 types of locations in the reported rat sightings, ranging from 1 to 104476 sightings in a location type. The location types with only 1 sighting are potential outliers--this includes Public School Cafeteria, Catering Service, Private House, Retail Store, and Street Fair Vendor. From these categories, it's possible that there is bias influencing the low count of reported sightings. For instance, people may feel less inclined to report a rat sighting at a private event or venue."
      ],
      "metadata": {
        "id": "ib1lv_-FGzfG"
      }
    },
    {
      "cell_type": "code",
      "source": [
        "# All zip codes and number of sightings in each (in descending order)\n",
        "zip_codes = df.groupby(['Incident Zip']).groups.keys()\n",
        "print(\"*** Incident Zip Code ***\")\n",
        "print(list(zip_codes))\n",
        "# print top 10 counts per zip codes\n",
        "zip_code_dict = {}\n",
        "for key in zip_codes:\n",
        "  zip_code_dict[key] = len(df[df['Incident Zip'] == key])\n",
        "print(\"\\n(Incident Zip Code , Count) in descending order:\")\n",
        "zip_code_dict = sorted(zip_code_dict.items(), key=lambda item: item[1], reverse=True)\n",
        "print(zip_code_dict)"
      ],
      "metadata": {
        "colab": {
          "base_uri": "https://localhost:8080/"
        },
        "id": "_feio3kYG2h3",
        "outputId": "8e089f84-7a1d-4b44-f97c-b94cf73b0fd0"
      },
      "execution_count": 56,
      "outputs": [
        {
          "output_type": "stream",
          "name": "stdout",
          "text": [
            "*** Incident Zip Code ***\n",
            "[83.0, 10000.0, 10001.0, 10002.0, 10003.0, 10004.0, 10005.0, 10006.0, 10007.0, 10009.0, 10010.0, 10011.0, 10012.0, 10013.0, 10014.0, 10016.0, 10017.0, 10018.0, 10019.0, 10020.0, 10021.0, 10022.0, 10023.0, 10024.0, 10025.0, 10026.0, 10027.0, 10028.0, 10029.0, 10030.0, 10031.0, 10032.0, 10033.0, 10034.0, 10035.0, 10036.0, 10037.0, 10038.0, 10039.0, 10040.0, 10041.0, 10044.0, 10045.0, 10048.0, 10065.0, 10069.0, 10075.0, 10111.0, 10112.0, 10115.0, 10118.0, 10119.0, 10120.0, 10121.0, 10128.0, 10151.0, 10162.0, 10174.0, 10178.0, 10271.0, 10278.0, 10280.0, 10282.0, 10301.0, 10302.0, 10303.0, 10304.0, 10305.0, 10306.0, 10307.0, 10308.0, 10309.0, 10310.0, 10312.0, 10314.0, 10451.0, 10452.0, 10453.0, 10454.0, 10455.0, 10456.0, 10457.0, 10458.0, 10459.0, 10460.0, 10461.0, 10462.0, 10463.0, 10464.0, 10465.0, 10466.0, 10467.0, 10468.0, 10469.0, 10470.0, 10471.0, 10472.0, 10473.0, 10474.0, 10475.0, 11001.0, 11004.0, 11040.0, 11101.0, 11102.0, 11103.0, 11104.0, 11105.0, 11106.0, 11109.0, 11201.0, 11203.0, 11204.0, 11205.0, 11206.0, 11207.0, 11208.0, 11209.0, 11210.0, 11211.0, 11212.0, 11213.0, 11214.0, 11215.0, 11216.0, 11217.0, 11218.0, 11219.0, 11220.0, 11221.0, 11222.0, 11223.0, 11224.0, 11225.0, 11226.0, 11228.0, 11229.0, 11230.0, 11231.0, 11232.0, 11233.0, 11234.0, 11235.0, 11236.0, 11237.0, 11238.0, 11239.0, 11241.0, 11242.0, 11249.0, 11354.0, 11355.0, 11356.0, 11357.0, 11358.0, 11360.0, 11361.0, 11362.0, 11363.0, 11364.0, 11365.0, 11366.0, 11367.0, 11368.0, 11369.0, 11370.0, 11371.0, 11372.0, 11373.0, 11374.0, 11375.0, 11377.0, 11378.0, 11379.0, 11385.0, 11411.0, 11412.0, 11413.0, 11414.0, 11415.0, 11416.0, 11417.0, 11418.0, 11419.0, 11420.0, 11421.0, 11422.0, 11423.0, 11426.0, 11427.0, 11428.0, 11429.0, 11430.0, 11432.0, 11433.0, 11434.0, 11435.0, 11436.0, 11691.0, 11692.0, 11693.0, 11694.0, 11695.0, 11697.0, 12345.0]\n",
            "\n",
            "(Incident Zip Code , Count) in descending order:\n",
            "[(11221.0, 6720), (10025.0, 6429), (11216.0, 6342), (11238.0, 6104), (11233.0, 4499), (11385.0, 4471), (11226.0, 4388), (11237.0, 4176), (10467.0, 3986), (11215.0, 3982), (10027.0, 3890), (11207.0, 3810), (11211.0, 3764), (11206.0, 3726), (10456.0, 3660), (10026.0, 3639), (10024.0, 3509), (11213.0, 3359), (10031.0, 3273), (10458.0, 3227), (10457.0, 3131), (11217.0, 2994), (10468.0, 2895), (11225.0, 2806), (10029.0, 2781), (11205.0, 2730), (10472.0, 2708), (10453.0, 2655), (11222.0, 2635), (10452.0, 2525), (10002.0, 2493), (10009.0, 2483), (11377.0, 2432), (10128.0, 2336), (11208.0, 2333), (10459.0, 2291), (11203.0, 2260), (10462.0, 2252), (10032.0, 2220), (10460.0, 2114), (11212.0, 2101), (10033.0, 2066), (10023.0, 2051), (11201.0, 1996), (11220.0, 1990), (10030.0, 1983), (10463.0, 1959), (11235.0, 1907), (10028.0, 1898), (10034.0, 1867), (10455.0, 1848), (10451.0, 1797), (11218.0, 1775), (10035.0, 1755), (10003.0, 1711), (11231.0, 1617), (10014.0, 1590), (10011.0, 1541), (11368.0, 1481), (11209.0, 1473), (11101.0, 1401), (10469.0, 1383), (10314.0, 1375), (11230.0, 1358), (11373.0, 1358), (10013.0, 1323), (10040.0, 1307), (10454.0, 1300), (11105.0, 1247), (11219.0, 1236), (10306.0, 1208), (11236.0, 1204), (11103.0, 1202), (10312.0, 1178), (11372.0, 1169), (10466.0, 1157), (11249.0, 1154), (11435.0, 1154), (11234.0, 1130), (10019.0, 1123), (10012.0, 1096), (11214.0, 1089), (10036.0, 1080), (11433.0, 1065), (10301.0, 1031), (10016.0, 1015), (10039.0, 1014), (10021.0, 1013), (11379.0, 1003), (11223.0, 980), (11378.0, 977), (11210.0, 933), (11374.0, 929), (10001.0, 919), (10037.0, 917), (10305.0, 900), (11432.0, 893), (10075.0, 877), (11106.0, 872), (10473.0, 848), (10310.0, 835), (10304.0, 825), (10461.0, 814), (10474.0, 813), (11232.0, 807), (11412.0, 805), (11102.0, 801), (11434.0, 801), (11375.0, 797), (11104.0, 777), (11355.0, 757), (11417.0, 744), (11204.0, 739), (11224.0, 713), (11229.0, 698), (11420.0, 694), (11419.0, 682), (11357.0, 668), (11691.0, 653), (10303.0, 642), (10038.0, 635), (10022.0, 624), (10010.0, 622), (10470.0, 597), (10302.0, 592), (10308.0, 591), (10465.0, 587), (11228.0, 582), (11354.0, 570), (11418.0, 567), (11369.0, 527), (10065.0, 515), (11436.0, 479), (11413.0, 475), (11367.0, 469), (11416.0, 452), (10309.0, 420), (10007.0, 416), (10471.0, 413), (11370.0, 408), (11414.0, 392), (11361.0, 385), (11358.0, 380), (11421.0, 380), (11429.0, 347), (10018.0, 315), (11423.0, 315), (10017.0, 229), (11694.0, 217), (11356.0, 204), (11365.0, 196), (11426.0, 192), (11422.0, 190), (10307.0, 181), (11411.0, 179), (10006.0, 165), (11427.0, 164), (11364.0, 129), (11692.0, 129), (11415.0, 127), (10475.0, 125), (11428.0, 115), (11693.0, 112), (10005.0, 107), (10464.0, 104), (10004.0, 103), (11360.0, 97), (11366.0, 95), (11001.0, 91), (11362.0, 78), (11239.0, 76), (11004.0, 66), (10069.0, 52), (11363.0, 42), (10280.0, 36), (10282.0, 31), (83.0, 26), (11109.0, 23), (10162.0, 20), (11430.0, 18), (10044.0, 17), (11040.0, 17), (10000.0, 8), (11697.0, 5), (10020.0, 4), (10112.0, 4), (12345.0, 4), (10041.0, 3), (10045.0, 1), (10048.0, 1), (10111.0, 1), (10115.0, 1), (10118.0, 1), (10119.0, 1), (10120.0, 1), (10121.0, 1), (10151.0, 1), (10174.0, 1), (10178.0, 1), (10271.0, 1), (10278.0, 1), (11241.0, 1), (11242.0, 1), (11371.0, 1), (11695.0, 1)]\n"
          ]
        }
      ]
    },
    {
      "cell_type": "markdown",
      "source": [
        "Considering the number of sightings per zip code, we can observe that the zip code with the greatest number of sightings is in Brooklyn, which is the borough with the greatest number of sightings. Aside from the zip code with the second-highest number of sightings belonging to Manhattan, the other zip codes in the top 5 all belong to Brooklyn."
      ],
      "metadata": {
        "id": "Jm6xIwN_G5Fr"
      }
    },
    {
      "cell_type": "code",
      "source": [
        "# Rows, columns\n",
        "print(\"(Rows, columns):\")\n",
        "print(df.shape)"
      ],
      "metadata": {
        "colab": {
          "base_uri": "https://localhost:8080/"
        },
        "id": "gFs9e1oBG69p",
        "outputId": "2c23a7d7-913f-4df2-f97a-d9ca9158c30b"
      },
      "execution_count": 57,
      "outputs": [
        {
          "output_type": "stream",
          "name": "stdout",
          "text": [
            "(Rows, columns):\n",
            "(250770, 7)\n"
          ]
        }
      ]
    },
    {
      "cell_type": "markdown",
      "source": [
        "## Visualizing Residential & Non-Residential Rat Sightings Data"
      ],
      "metadata": {
        "id": "GvMX_fh6HUyR"
      }
    },
    {
      "cell_type": "markdown",
      "source": [
        "Let's next observe the relationship between rat sightings in residential and non-residential areas. From this visualization, we can see that the proportion of residential rat sightings is much higher than non-residential sightings. This provides us with insight into the makeup of our dataset."
      ],
      "metadata": {
        "id": "ohWc2Ba0HH20"
      }
    },
    {
      "cell_type": "code",
      "source": [
        "# Create the residential and non-residential DataFrames\n",
        "residential_df = df[df['Location Type'].isin(residential_mapping.values())]\n",
        "nonresidential_df = df[~df['Location Type'].isin(residential_mapping.values())]\n",
        "nonresidential_df = nonresidential_df[~nonresidential_df['Location Type'].isin(['Other', 'Other (Explain Below)'])]\n",
        "\n",
        "# Basic Data Exploration - residential vs nonresidential pie chart\n",
        "residential_count = residential_df.shape[0]\n",
        "nonresidential_count = nonresidential_df.shape[0]\n",
        "\n",
        "# Data for the pie chart\n",
        "labels = ['Residential', 'Non-Residential']\n",
        "sizes = [residential_count, nonresidential_count]\n",
        "colors = ['pink', 'lightblue']\n",
        "\n",
        "# Pie chart\n",
        "plt.figure(figsize=(8, 6))\n",
        "plt.pie(sizes, labels=labels, colors=colors, autopct='%1.1f%%', startangle=140)\n",
        "plt.title('Rat Sightings Proportion: Residential vs Non-Residential Areas')\n",
        "# Equal aspect ratio ensures that pie chart is drawn as a circle.\n",
        "plt.axis('equal')\n",
        "plt.show()"
      ],
      "metadata": {
        "colab": {
          "base_uri": "https://localhost:8080/",
          "height": 521
        },
        "id": "MGT9HkgMCVEM",
        "outputId": "d7a0d2dd-2b6b-44ba-ded4-f09f32955ab0"
      },
      "execution_count": 58,
      "outputs": [
        {
          "output_type": "display_data",
          "data": {
            "text/plain": [
              "<Figure size 800x600 with 1 Axes>"
            ],
            "image/png": "[encoded data removed]"
          },
          "metadata": {}
        }
      ]
    },
    {
      "cell_type": "markdown",
      "source": [
        "Next, let's take a look at the geographic density of rat sightings using our Latitude and Longitude data along with frequencies. It can be seen from the map that there are high concentrations of rat sightings located within Manhattan and Brooklyn in particular."
      ],
      "metadata": {
        "id": "diMUa5JXC1do"
      }
    },
    {
      "cell_type": "markdown",
      "source": [
        "Insights: Over-representation\n",
        "Residential locations had a significantly higher number of reported rat sightings compared to non-residential areas. This is evident from the data: the residential_df contains 175,031 rows, while the nonresidential_df has only 38,665 rows. While this could indicate that rat sightings are more frequent in residential areas, the data may be skewed. People might be more inclined to report rat sightings in private or residential spaces than in non-residential areas or public streets. We thus, need to further investigate why there is such a high discrepency in the number of sightings."
      ],
      "metadata": {
        "id": "U6mOg4iR0azD"
      }
    },
    {
      "cell_type": "markdown",
      "source": [
        "## Visualizing Location of Rat Sightings"
      ],
      "metadata": {
        "id": "b6V62KDdHb-n"
      }
    },
    {
      "cell_type": "code",
      "source": [
        "import matplotlib.colors as mcolors\n",
        "\n",
        "cmap = mcolors.LinearSegmentedColormap.from_list(\"custom_cmap\", [\"pink\", \"lightblue\", \"grey\"])\n",
        "plt.figure(figsize=(10, 6))\n",
        "plt.hexbin(df['Longitude'], df['Latitude'], gridsize=50, cmap=cmap, mincnt=1)\n",
        "plt.colorbar(label='Number of Rat Sightings')\n",
        "plt.title('Geographic Density Heatmap of Rat Sightings (2011-2021)')\n",
        "plt.xlabel('Longitude')\n",
        "plt.ylabel('Latitude')\n",
        "plt.show()"
      ],
      "metadata": {
        "colab": {
          "base_uri": "https://localhost:8080/",
          "height": 564
        },
        "id": "--HpBFUm7ixb",
        "outputId": "3295f40a-1195-4bb5-8eb6-fb68c4527604"
      },
      "execution_count": 59,
      "outputs": [
        {
          "output_type": "display_data",
          "data": {
            "text/plain": [
              "<Figure size 1000x600 with 2 Axes>"
            ],
            "image/png": "[encoded data removed]"
          },
          "metadata": {}
        }
      ]
    },
    {
      "cell_type": "markdown",
      "source": [
        "\n",
        "# Part 3: Rat Sightings over Time & Seasons\n",
        "\n",
        "In this section, we explore the patterns of rat sightings over time  by extracting relevant date information from our dataset and visualizing these trends. We will focus on how rat sightings vary across different months and perform a statistical comparison between seasons—specifically, winter and summer.\n"
      ],
      "metadata": {
        "id": "6RtnhoYqGZp-"
      }
    },
    {
      "cell_type": "markdown",
      "source": [
        "Extract the month, week, and day from the dates in the dataset."
      ],
      "metadata": {
        "id": "TmIF9_SYGqG6"
      }
    },
    {
      "cell_type": "code",
      "source": [
        "# Convert 'Created Date' to datetime format\n",
        "df['Created Date'] = pd.to_datetime(df['Created Date'])\n",
        "\n",
        "# Extract month, week, and day information\n",
        "df['Month'] = df['Created Date'].dt.month\n",
        "df['Week'] = df['Created Date'].dt.isocalendar().week\n",
        "df['Day'] = df['Created Date'].dt.day\n",
        "\n",
        "# Check the updated dataframe\n",
        "print(df[['Created Date', 'Month', 'Week', 'Day']].head())"
      ],
      "metadata": {
        "colab": {
          "base_uri": "https://localhost:8080/"
        },
        "id": "b6xsvPflDi5M",
        "outputId": "cf8016fe-c213-478e-daa3-5adbe9e67748"
      },
      "execution_count": 60,
      "outputs": [
        {
          "output_type": "stream",
          "name": "stdout",
          "text": [
            "         Created Date  Month  Week  Day\n",
            "0 2024-05-31 00:10:00      5    22   31\n",
            "1 2024-06-01 15:01:00      6    22    1\n",
            "2 2024-06-06 10:08:00      6    23    6\n",
            "3 2024-06-25 11:34:00      6    26   25\n",
            "4 2024-06-27 10:48:00      6    26   27\n"
          ]
        }
      ]
    },
    {
      "cell_type": "markdown",
      "source": [
        "## Visualizing Rat sightings over Months"
      ],
      "metadata": {
        "id": "54jOCWmmG40Q"
      }
    },
    {
      "cell_type": "code",
      "source": [
        "# Count rat sightings per month\n",
        "rat_sightings_by_month = df['Month'].value_counts().sort_index()\n",
        "\n",
        "# Plot the results\n",
        "plt.figure(figsize=(10, 6))\n",
        "rat_sightings_by_month.plot(kind='bar', color='lightblue')\n",
        "plt.title('Count of Rat Sightings per Month')\n",
        "plt.xlabel('Month')\n",
        "plt.ylabel('Number of Sightings')\n",
        "plt.xticks(rotation=0)\n",
        "plt.show()"
      ],
      "metadata": {
        "colab": {
          "base_uri": "https://localhost:8080/",
          "height": 564
        },
        "id": "QOg2yCA9DuSh",
        "outputId": "bf54a076-0784-446a-895f-4c8c26d84bd0"
      },
      "execution_count": 61,
      "outputs": [
        {
          "output_type": "display_data",
          "data": {
            "text/plain": [
              "<Figure size 1000x600 with 1 Axes>"
            ],
            "image/png": "[encoded data removed]"
          },
          "metadata": {}
        }
      ]
    },
    {
      "cell_type": "markdown",
      "source": [
        "## Visualizing Rat Sightings over Month-Years\n"
      ],
      "metadata": {
        "id": "qkiZNKwnKwId"
      }
    },
    {
      "cell_type": "code",
      "source": [
        "df['Created Date'] = pd.to_datetime(df['Created Date'])\n",
        "\n",
        "# Create a 'Year-Month' column as a datetime type, and then count occurrences\n",
        "df['Year-Month'] = df['Created Date'].dt.to_period('M')  # 'M' ensures a Period type (year-month)\n",
        "rat_sightings_by_month = df.groupby('Year-Month').size().sort_index()\n",
        "\n",
        "# Plotting\n",
        "plt.figure(figsize=(12, 6))\n",
        "ax = rat_sightings_by_month.plot(kind='bar', color='lightblue')\n",
        "\n",
        "# Limit the number of x-axis labels\n",
        "xticks_to_show = rat_sightings_by_month.index[::6]\n",
        "xtick_positions = range(0, len(rat_sightings_by_month), 6)\n",
        "\n",
        "plt.xticks(ticks=xtick_positions, labels=xticks_to_show.astype(str), ha='right')\n",
        "\n",
        "plt.title('Count of Rat Sightings per Month')\n",
        "plt.xlabel('Month and Year')\n",
        "plt.ylabel('Number of Sightings')\n",
        "\n",
        "plt.tight_layout()  # Ensures everything fits without overlap\n",
        "plt.show()"
      ],
      "metadata": {
        "id": "VhZLaoAGK1BI",
        "colab": {
          "base_uri": "https://localhost:8080/",
          "height": 586
        },
        "outputId": "f890579a-8935-4464-d76a-2336eba05fe9"
      },
      "execution_count": 79,
      "outputs": [
        {
          "output_type": "display_data",
          "data": {
            "text/plain": [
              "<Figure size 1200x600 with 1 Axes>"
            ],
            "image/png": "[encoded data removed]"
          },
          "metadata": {}
        }
      ]
    },
    {
      "cell_type": "markdown",
      "source": [
        "Next, we will cut this up into quantiles and identify Low/Medium/High value for rat sighting based on time."
      ],
      "metadata": {
        "id": "445WfVZpOVKs"
      }
    },
    {
      "cell_type": "code",
      "source": [
        "quantiles = pd.qcut(rat_sightings_by_month, 3, labels=[\"Low\", \"Medium\", \"High\"])\n",
        "quantiles\n",
        "\n",
        "rat_sightings_by_month_category = quantiles\n",
        "\n",
        "category_mapping = rat_sightings_by_month_category.to_dict()\n",
        "\n",
        "df['Category'] = df['Year-Month'].map(category_mapping)"
      ],
      "metadata": {
        "colab": {
          "base_uri": "https://localhost:8080/",
          "height": 206
        },
        "id": "vKB1mSE6Nx7v",
        "outputId": "4531d9f5-0b45-4049-b0c3-d12864d5de5f"
      },
      "execution_count": 85,
      "outputs": [
        {
          "output_type": "execute_result",
          "data": {
            "text/plain": [
              "         Created Date         Location Type    ZIP Community Board   Borough  \\\n",
              "0 2024-05-31 00:10:00            Vacant Lot  11377       02 QUEENS    QUEENS   \n",
              "1 2024-06-01 15:01:00  1-2 Family Apartment  11357       07 QUEENS    QUEENS   \n",
              "2 2024-06-06 10:08:00             3+ Family  11385       05 QUEENS    QUEENS   \n",
              "3 2024-06-25 11:34:00             3+ Family  10467        07 BRONX     BRONX   \n",
              "4 2024-06-27 10:48:00  1-2 Family Apartment  11220     07 BROOKLYN  BROOKLYN   \n",
              "\n",
              "    Latitude  Longitude  Month  Week  Day Year-Month Category  \n",
              "0  40.740375 -73.896454      5    22   31    2024-05     High  \n",
              "1  40.781667 -73.807381      6    22    1    2024-06     High  \n",
              "2  40.705669 -73.908352      6    23    6    2024-06     High  \n",
              "3  40.884066 -73.879225      6    26   25    2024-06     High  \n",
              "4  40.642061 -74.015862      6    26   27    2024-06     High  "
            ],
            "text/html": [
              "\n",
              "  <div id=\"df-919ce062-ff95-400b-ad62-ab65455b333d\" class=\"colab-df-container\">\n",
              "    <div>\n",
              "<style scoped>\n",
              "    .dataframe tbody tr th:only-of-type {\n",
              "        vertical-align: middle;\n",
              "    }\n",
              "\n",
              "    .dataframe tbody tr th {\n",
              "        vertical-align: top;\n",
              "    }\n",
              "\n",
              "    .dataframe thead th {\n",
              "        text-align: right;\n",
              "    }\n",
              "</style>\n",
              "<table border=\"1\" class=\"dataframe\">\n",
              "  <thead>\n",
              "    <tr style=\"text-align: right;\">\n",
              "      <th></th>\n",
              "      <th>Created Date</th>\n",
              "      <th>Location Type</th>\n",
              "      <th>ZIP</th>\n",
              "      <th>Community Board</th>\n",
              "      <th>Borough</th>\n",
              "      <th>Latitude</th>\n",
              "      <th>Longitude</th>\n",
              "      <th>Month</th>\n",
              "      <th>Week</th>\n",
              "      <th>Day</th>\n",
              "      <th>Year-Month</th>\n",
              "      <th>Category</th>\n",
              "    </tr>\n",
              "  </thead>\n",
              "  <tbody>\n",
              "    <tr>\n",
              "      <th>0</th>\n",
              "      <td>2024-05-31 00:10:00</td>\n",
              "      <td>Vacant Lot</td>\n",
              "      <td>11377</td>\n",
              "      <td>02 QUEENS</td>\n",
              "      <td>QUEENS</td>\n",
              "      <td>40.740375</td>\n",
              "      <td>-73.896454</td>\n",
              "      <td>5</td>\n",
              "      <td>22</td>\n",
              "      <td>31</td>\n",
              "      <td>2024-05</td>\n",
              "      <td>High</td>\n",
              "    </tr>\n",
              "    <tr>\n",
              "      <th>1</th>\n",
              "      <td>2024-06-01 15:01:00</td>\n",
              "      <td>1-2 Family Apartment</td>\n",
              "      <td>11357</td>\n",
              "      <td>07 QUEENS</td>\n",
              "      <td>QUEENS</td>\n",
              "      <td>40.781667</td>\n",
              "      <td>-73.807381</td>\n",
              "      <td>6</td>\n",
              "      <td>22</td>\n",
              "      <td>1</td>\n",
              "      <td>2024-06</td>\n",
              "      <td>High</td>\n",
              "    </tr>\n",
              "    <tr>\n",
              "      <th>2</th>\n",
              "      <td>2024-06-06 10:08:00</td>\n",
              "      <td>3+ Family</td>\n",
              "      <td>11385</td>\n",
              "      <td>05 QUEENS</td>\n",
              "      <td>QUEENS</td>\n",
              "      <td>40.705669</td>\n",
              "      <td>-73.908352</td>\n",
              "      <td>6</td>\n",
              "      <td>23</td>\n",
              "      <td>6</td>\n",
              "      <td>2024-06</td>\n",
              "      <td>High</td>\n",
              "    </tr>\n",
              "    <tr>\n",
              "      <th>3</th>\n",
              "      <td>2024-06-25 11:34:00</td>\n",
              "      <td>3+ Family</td>\n",
              "      <td>10467</td>\n",
              "      <td>07 BRONX</td>\n",
              "      <td>BRONX</td>\n",
              "      <td>40.884066</td>\n",
              "      <td>-73.879225</td>\n",
              "      <td>6</td>\n",
              "      <td>26</td>\n",
              "      <td>25</td>\n",
              "      <td>2024-06</td>\n",
              "      <td>High</td>\n",
              "    </tr>\n",
              "    <tr>\n",
              "      <th>4</th>\n",
              "      <td>2024-06-27 10:48:00</td>\n",
              "      <td>1-2 Family Apartment</td>\n",
              "      <td>11220</td>\n",
              "      <td>07 BROOKLYN</td>\n",
              "      <td>BROOKLYN</td>\n",
              "      <td>40.642061</td>\n",
              "      <td>-74.015862</td>\n",
              "      <td>6</td>\n",
              "      <td>26</td>\n",
              "      <td>27</td>\n",
              "      <td>2024-06</td>\n",
              "      <td>High</td>\n",
              "    </tr>\n",
              "  </tbody>\n",
              "</table>\n",
              "</div>\n",
              "    <div class=\"colab-df-buttons\">\n",
              "\n",
              "  <div class=\"colab-df-container\">\n",
              "    <button class=\"colab-df-convert\" onclick=\"convertToInteractive('df-919ce062-ff95-400b-ad62-ab65455b333d')\"\n",
              "            title=\"Convert this dataframe to an interactive table.\"\n",
              "            style=\"display:none;\">\n",
              "\n",
              "  <svg xmlns=\"http://www.w3.org/2000/svg\" height=\"24px\" viewBox=\"0 -960 960 960\">\n",
              "    <path d=\"M120-120v-720h720v720H120Zm60-500h600v-160H180v160Zm220 220h160v-160H400v160Zm0 220h160v-160H400v160ZM180-400h160v-160H180v160Zm440 0h160v-160H620v160ZM180-180h160v-160H180v160Zm440 0h160v-160H620v160Z\"/>\n",
              "  </svg>\n",
              "    </button>\n",
              "\n",
              "  <style>\n",
              "    .colab-df-container {\n",
              "      display:flex;\n",
              "      gap: 12px;\n",
              "    }\n",
              "\n",
              "    .colab-df-convert {\n",
              "      background-color: #E8F0FE;\n",
              "      border: none;\n",
              "      border-radius: 50%;\n",
              "      cursor: pointer;\n",
              "      display: none;\n",
              "      fill: #1967D2;\n",
              "      height: 32px;\n",
              "      padding: 0 0 0 0;\n",
              "      width: 32px;\n",
              "    }\n",
              "\n",
              "    .colab-df-convert:hover {\n",
              "      background-color: #E2EBFA;\n",
              "      box-shadow: 0px 1px 2px rgba(60, 64, 67, 0.3), 0px 1px 3px 1px rgba(60, 64, 67, 0.15);\n",
              "      fill: #174EA6;\n",
              "    }\n",
              "\n",
              "    .colab-df-buttons div {\n",
              "      margin-bottom: 4px;\n",
              "    }\n",
              "\n",
              "    [theme=dark] .colab-df-convert {\n",
              "      background-color: #3B4455;\n",
              "      fill: #D2E3FC;\n",
              "    }\n",
              "\n",
              "    [theme=dark] .colab-df-convert:hover {\n",
              "      background-color: #434B5C;\n",
              "      box-shadow: 0px 1px 3px 1px rgba(0, 0, 0, 0.15);\n",
              "      filter: drop-shadow(0px 1px 2px rgba(0, 0, 0, 0.3));\n",
              "      fill: #FFFFFF;\n",
              "    }\n",
              "  </style>\n",
              "\n",
              "    <script>\n",
              "      const buttonEl =\n",
              "        document.querySelector('#df-919ce062-ff95-400b-ad62-ab65455b333d button.colab-df-convert');\n",
              "      buttonEl.style.display =\n",
              "        google.colab.kernel.accessAllowed ? 'block' : 'none';\n",
              "\n",
              "      async function convertToInteractive(key) {\n",
              "        const element = document.querySelector('#df-919ce062-ff95-400b-ad62-ab65455b333d');\n",
              "        const dataTable =\n",
              "          await google.colab.kernel.invokeFunction('convertToInteractive',\n",
              "                                                    [key], {});\n",
              "        if (!dataTable) return;\n",
              "\n",
              "        const docLinkHtml = 'Like what you see? Visit the ' +\n",
              "          '<a target=\"_blank\" href=https://colab.research.google.com/notebooks/data_table.ipynb>data table notebook</a>'\n",
              "          + ' to learn more about interactive tables.';\n",
              "        element.innerHTML = '';\n",
              "        dataTable['output_type'] = 'display_data';\n",
              "        await google.colab.output.renderOutput(dataTable, element);\n",
              "        const docLink = document.createElement('div');\n",
              "        docLink.innerHTML = docLinkHtml;\n",
              "        element.appendChild(docLink);\n",
              "      }\n",
              "    </script>\n",
              "  </div>\n",
              "\n",
              "\n",
              "<div id=\"df-4d7ecbad-c022-4e4f-828e-2d60e25774d0\">\n",
              "  <button class=\"colab-df-quickchart\" onclick=\"quickchart('df-4d7ecbad-c022-4e4f-828e-2d60e25774d0')\"\n",
              "            title=\"Suggest charts\"\n",
              "            style=\"display:none;\">\n",
              "\n",
              "<svg xmlns=\"http://www.w3.org/2000/svg\" height=\"24px\"viewBox=\"0 0 24 24\"\n",
              "     width=\"24px\">\n",
              "    <g>\n",
              "        <path d=\"M19 3H5c-1.1 0-2 .9-2 2v14c0 1.1.9 2 2 2h14c1.1 0 2-.9 2-2V5c0-1.1-.9-2-2-2zM9 17H7v-7h2v7zm4 0h-2V7h2v10zm4 0h-2v-4h2v4z\"/>\n",
              "    </g>\n",
              "</svg>\n",
              "  </button>\n",
              "\n",
              "<style>\n",
              "  .colab-df-quickchart {\n",
              "      --bg-color: #E8F0FE;\n",
              "      --fill-color: #1967D2;\n",
              "      --hover-bg-color: #E2EBFA;\n",
              "      --hover-fill-color: #174EA6;\n",
              "      --disabled-fill-color: #AAA;\n",
              "      --disabled-bg-color: #DDD;\n",
              "  }\n",
              "\n",
              "  [theme=dark] .colab-df-quickchart {\n",
              "      --bg-color: #3B4455;\n",
              "      --fill-color: #D2E3FC;\n",
              "      --hover-bg-color: #434B5C;\n",
              "      --hover-fill-color: #FFFFFF;\n",
              "      --disabled-bg-color: #3B4455;\n",
              "      --disabled-fill-color: #666;\n",
              "  }\n",
              "\n",
              "  .colab-df-quickchart {\n",
              "    background-color: var(--bg-color);\n",
              "    border: none;\n",
              "    border-radius: 50%;\n",
              "    cursor: pointer;\n",
              "    display: none;\n",
              "    fill: var(--fill-color);\n",
              "    height: 32px;\n",
              "    padding: 0;\n",
              "    width: 32px;\n",
              "  }\n",
              "\n",
              "  .colab-df-quickchart:hover {\n",
              "    background-color: var(--hover-bg-color);\n",
              "    box-shadow: 0 1px 2px rgba(60, 64, 67, 0.3), 0 1px 3px 1px rgba(60, 64, 67, 0.15);\n",
              "    fill: var(--button-hover-fill-color);\n",
              "  }\n",
              "\n",
              "  .colab-df-quickchart-complete:disabled,\n",
              "  .colab-df-quickchart-complete:disabled:hover {\n",
              "    background-color: var(--disabled-bg-color);\n",
              "    fill: var(--disabled-fill-color);\n",
              "    box-shadow: none;\n",
              "  }\n",
              "\n",
              "  .colab-df-spinner {\n",
              "    border: 2px solid var(--fill-color);\n",
              "    border-color: transparent;\n",
              "    border-bottom-color: var(--fill-color);\n",
              "    animation:\n",
              "      spin 1s steps(1) infinite;\n",
              "  }\n",
              "\n",
              "  @keyframes spin {\n",
              "    0% {\n",
              "      border-color: transparent;\n",
              "      border-bottom-color: var(--fill-color);\n",
              "      border-left-color: var(--fill-color);\n",
              "    }\n",
              "    20% {\n",
              "      border-color: transparent;\n",
              "      border-left-color: var(--fill-color);\n",
              "      border-top-color: var(--fill-color);\n",
              "    }\n",
              "    30% {\n",
              "      border-color: transparent;\n",
              "      border-left-color: var(--fill-color);\n",
              "      border-top-color: var(--fill-color);\n",
              "      border-right-color: var(--fill-color);\n",
              "    }\n",
              "    40% {\n",
              "      border-color: transparent;\n",
              "      border-right-color: var(--fill-color);\n",
              "      border-top-color: var(--fill-color);\n",
              "    }\n",
              "    60% {\n",
              "      border-color: transparent;\n",
              "      border-right-color: var(--fill-color);\n",
              "    }\n",
              "    80% {\n",
              "      border-color: transparent;\n",
              "      border-right-color: var(--fill-color);\n",
              "      border-bottom-color: var(--fill-color);\n",
              "    }\n",
              "    90% {\n",
              "      border-color: transparent;\n",
              "      border-bottom-color: var(--fill-color);\n",
              "    }\n",
              "  }\n",
              "</style>\n",
              "\n",
              "  <script>\n",
              "    async function quickchart(key) {\n",
              "      const quickchartButtonEl =\n",
              "        document.querySelector('#' + key + ' button');\n",
              "      quickchartButtonEl.disabled = true;  // To prevent multiple clicks.\n",
              "      quickchartButtonEl.classList.add('colab-df-spinner');\n",
              "      try {\n",
              "        const charts = await google.colab.kernel.invokeFunction(\n",
              "            'suggestCharts', [key], {});\n",
              "      } catch (error) {\n",
              "        console.error('Error during call to suggestCharts:', error);\n",
              "      }\n",
              "      quickchartButtonEl.classList.remove('colab-df-spinner');\n",
              "      quickchartButtonEl.classList.add('colab-df-quickchart-complete');\n",
              "    }\n",
              "    (() => {\n",
              "      let quickchartButtonEl =\n",
              "        document.querySelector('#df-4d7ecbad-c022-4e4f-828e-2d60e25774d0 button');\n",
              "      quickchartButtonEl.style.display =\n",
              "        google.colab.kernel.accessAllowed ? 'block' : 'none';\n",
              "    })();\n",
              "  </script>\n",
              "</div>\n",
              "\n",
              "    </div>\n",
              "  </div>\n"
            ],
            "application/vnd.google.colaboratory.intrinsic+json": {
              "type": "dataframe",
              "variable_name": "df"
            }
          },
          "metadata": {},
          "execution_count": 85
        }
      ]
    },
    {
      "cell_type": "markdown",
      "source": [
        "## **TEST 1:** T-test on Summer vs Winter Rat Sightings\n",
        "\n",
        "\n",
        "H0: There is no significant difference in rat sightings between winter months and summer months.\n",
        "\n",
        "H1: There is a significant difference in rat sightings between winter months and summer months."
      ],
      "metadata": {
        "id": "1Rc_Yll9G-It"
      }
    },
    {
      "cell_type": "code",
      "source": [
        "# Compare rat sightings between Winter (Dec-Feb) and Summer (Jun-Aug)\n",
        "winter_months = [12, 1, 2]\n",
        "summer_months = [6, 7, 8]\n",
        "\n",
        "# Get sightings for winter and summer\n",
        "winter_sightings = df[df['Month'].isin(winter_months)]['Month'].count()\n",
        "summer_sightings = df[df['Month'].isin(summer_months)]['Month'].count()\n",
        "\n",
        "# Filter the data for winter and summer months\n",
        "winter_data = df[df['Month'].isin([12, 1, 2])]\n",
        "summer_data = df[df['Month'].isin([6, 7, 8])]\n"
      ],
      "metadata": {
        "id": "BmE0z27TDzZZ"
      },
      "execution_count": 63,
      "outputs": []
    },
    {
      "cell_type": "code",
      "source": [
        "# Check the length of data for both groups\n",
        "print(\"Winter sightings count:\", len(winter_data))\n",
        "print(\"Summer sightings count:\", len(summer_data))"
      ],
      "metadata": {
        "colab": {
          "base_uri": "https://localhost:8080/"
        },
        "id": "P19nXslaD7lS",
        "outputId": "3799720f-c120-4238-d49a-9aa264d3dd4d"
      },
      "execution_count": 64,
      "outputs": [
        {
          "output_type": "stream",
          "name": "stdout",
          "text": [
            "Winter sightings count: 42933\n",
            "Summer sightings count: 82968\n"
          ]
        }
      ]
    },
    {
      "cell_type": "code",
      "source": [
        "# Check for NaN values in these groups\n",
        "print(\"NaN in winter data:\", winter_data.isna().sum())\n",
        "print(\"NaN in summer data:\", summer_data.isna().sum())\n",
        "\n",
        "# Drop rows with missing values in 'Incident Zip', 'Latitude', or 'Longitude'\n",
        "winter_data_clean = winter_data.dropna(subset=['Incident Zip', 'Latitude', 'Longitude'])\n",
        "summer_data_clean = summer_data.dropna(subset=['Incident Zip', 'Latitude', 'Longitude'])\n",
        "\n",
        "# Check cleaned data\n",
        "print(\"Cleaned winter data count:\", len(winter_data_clean))\n",
        "print(\"Cleaned summer data count:\", len(summer_data_clean))"
      ],
      "metadata": {
        "colab": {
          "base_uri": "https://localhost:8080/"
        },
        "id": "P3CsjQLYD9q6",
        "outputId": "d4a57768-cb81-4ba5-f0d6-72fa17e2b166"
      },
      "execution_count": 65,
      "outputs": [
        {
          "output_type": "stream",
          "name": "stdout",
          "text": [
            "NaN in winter data: Created Date       0\n",
            "Location Type      0\n",
            "Incident Zip       0\n",
            "Community Board    0\n",
            "Borough            0\n",
            "Latitude           0\n",
            "Longitude          0\n",
            "Month              0\n",
            "Week               0\n",
            "Day                0\n",
            "Year-Month         0\n",
            "dtype: int64\n",
            "NaN in summer data: Created Date       0\n",
            "Location Type      0\n",
            "Incident Zip       0\n",
            "Community Board    0\n",
            "Borough            0\n",
            "Latitude           0\n",
            "Longitude          0\n",
            "Month              0\n",
            "Week               0\n",
            "Day                0\n",
            "Year-Month         0\n",
            "dtype: int64\n",
            "Cleaned winter data count: 42933\n",
            "Cleaned summer data count: 82968\n"
          ]
        }
      ]
    },
    {
      "cell_type": "markdown",
      "source": [
        "T test: T-test is only valid if the sample size is normally distributed and independent. By the Central Limit theorem, since the sizes of both datasets are over 30, a normal distribution can be assumed."
      ],
      "metadata": {
        "id": "0M0lL7tgERrT"
      }
    },
    {
      "cell_type": "code",
      "source": [
        "# Count the number of sightings per day in both seasons\n",
        "winter_sightings_per_day = winter_data_clean['Created Date'].dt.date.value_counts()\n",
        "summer_sightings_per_day = summer_data_clean['Created Date'].dt.date.value_counts()\n",
        "\n",
        "# Perform the t-test comparing the number of sightings per day in winter vs summer\n",
        "t_stat, p_value = stats.ttest_ind(winter_sightings_per_day, summer_sightings_per_day, equal_var=False)\n",
        "\n",
        "print(f'T-statistic: {t_stat}, P-value: {p_value}')"
      ],
      "metadata": {
        "colab": {
          "base_uri": "https://localhost:8080/"
        },
        "id": "mKkYqj8EEMSP",
        "outputId": "7f35f9af-38c3-44f7-dbca-5ed1efb939d4"
      },
      "execution_count": 66,
      "outputs": [
        {
          "output_type": "stream",
          "name": "stdout",
          "text": [
            "T-statistic: -32.5198022279798, P-value: 2.2052905701576025e-193\n"
          ]
        }
      ]
    },
    {
      "cell_type": "markdown",
      "source": [
        "The T-test results in a p-value of approximately 1.70e-191. Thus, we reject our null hypothesis of no significant difference between Summer and Winter months. This extremely low p-value indicates a highly significant difference in the number of rat sightings between winter and summer. This supports the conclusion that rat sightings are substantially more prevalent during the summer months compared to winter. The results highlight the importance of seasonal factors in understanding rat populations and could inform pest management strategies.\n",
        "\n",
        "\n",
        "**Insights: Correlation 1** - In examining the dataset of rat sightings, it becomes evident that there is a noticeable correlation between the number of rat sightings and the seasons, particularly when comparing warmer months to colder months. The data and graph indicates that rat sightings tend to increase significantly during the warmer months of summer (June, July, and August). This trend can be attributed to several factors, including increased outdoor activity, which leads to more people being in public spaces and consequently more reports of rat sightings. Additionally, the summer months typically provide a greater abundance of food sources for rats, whether through discarded food in parks and streets or increased human activity in residential areas. Conversely, there is a decline in rat sightings during the winter months (December, January, and February), which can be explained by harsh weather conditions that limit rat activity and their ability to forage for food. Moreover, rats may seek shelter in warmer environments during the winter, such as basements or other protected areas, making them less visible or accessible to the public.\n"
      ],
      "metadata": {
        "id": "zKYslpOa-nUu"
      }
    },
    {
      "cell_type": "markdown",
      "source": [
        "# Part 4: Rat Sightings and Location"
      ],
      "metadata": {
        "id": "FVQyB09opsIT"
      }
    },
    {
      "cell_type": "markdown",
      "source": [
        "## **Test 2**: ANOVA Test on Rat Sightings across Boroughs\n",
        "\n",
        "The ANOVA test is used to assess if there are significant differences in average rat sightings per zip code across different boroughs. Its purpose is to compare the means of multiple groups.\n",
        "\n",
        "H0: There are no significant differences in mean rat sightings across boroughs\n",
        "\n",
        "H1: There are significant differences in mean rat sightings across boroughs"
      ],
      "metadata": {
        "id": "bDLZbhk1Rt6F"
      }
    },
    {
      "cell_type": "code",
      "source": [
        "from scipy import stats\n",
        "\n",
        "sightings_per_zip = df.groupby(['Borough', 'Incident Zip']).size().reset_index(name='Sightings')\n",
        "\n",
        "# group by Borough to prepare for ANOVA\n",
        "sightings_by_borough = sightings_per_zip.groupby('Borough')['Sightings'].apply(list).reset_index()\n",
        "print(sightings_by_borough)\n",
        "\n",
        "# Extracting sightings lists for each borough\n",
        "borough_groups = sightings_by_borough['Sightings'].tolist()\n",
        "\n",
        "# Perform ANOVA\n",
        "f_statistic, p_value = stats.f_oneway(*borough_groups)\n",
        "\n",
        "print(f'P-value: {p_value}')"
      ],
      "metadata": {
        "colab": {
          "base_uri": "https://localhost:8080/"
        },
        "id": "1AHT6Q4uR6EB",
        "outputId": "f7e89a4f-63b6-49ce-db57-f4f29c1186a8"
      },
      "execution_count": 67,
      "outputs": [
        {
          "output_type": "stream",
          "name": "stdout",
          "text": [
            "         Borough                                          Sightings\n",
            "0          BRONX  [1797, 2525, 2655, 1300, 1848, 3660, 3131, 322...\n",
            "1       BROOKLYN  [1996, 2260, 739, 2730, 3726, 3810, 2329, 1473...\n",
            "2      MANHATTAN  [26, 8, 919, 2493, 1711, 103, 107, 165, 416, 2...\n",
            "3         QUEENS  [91, 66, 17, 1401, 797, 1199, 777, 1239, 872, ...\n",
            "4  STATEN ISLAND  [1031, 592, 642, 825, 900, 1208, 181, 591, 420...\n",
            "P-value: 1.6924366973020327e-09\n"
          ]
        }
      ]
    },
    {
      "cell_type": "markdown",
      "source": [
        "We Reject the null hypothesis (H0) because the p-value of 1.685e-9 is far less than the alpha value of 0.05. This indicates that there are significant difference in rat sightings across boroughs. However, a post-hoc test is necessary to identify which boroughs have more significant differences. For this, we use Turkey HSD post-hoc test to identify significant differences.\n",
        "\n",
        "But first, let's visualize the results of the ANOVA Test."
      ],
      "metadata": {
        "id": "xfLT-gJbbvsZ"
      }
    },
    {
      "cell_type": "code",
      "source": [
        "import matplotlib.pyplot as plt\n",
        "import seaborn as sns\n",
        "\n",
        "plt.figure(figsize=(12, 6))\n",
        "sns.boxplot(x='Borough', y='Sightings', data=sightings_per_zip)\n",
        "plt.title('Box Plot of Rat Sightings by Borough')\n",
        "plt.xlabel('Borough')\n",
        "plt.ylabel('Number of Rat Sightings')\n",
        "plt.xticks(rotation=45)\n",
        "plt.show()\n"
      ],
      "metadata": {
        "colab": {
          "base_uri": "https://localhost:8080/",
          "height": 636
        },
        "id": "Dp6TnpXjbvJO",
        "outputId": "4b2da9c2-9e32-464a-ad65-ffda49d57d67"
      },
      "execution_count": 68,
      "outputs": [
        {
          "output_type": "display_data",
          "data": {
            "text/plain": [
              "<Figure size 1200x600 with 1 Axes>"
            ],
            "image/png": "[encoded data removed]"
          },
          "metadata": {}
        }
      ]
    },
    {
      "cell_type": "markdown",
      "source": [
        "## **Follow-up** Post-hoc Test with Turkey's HSD Test\n",
        "\n"
      ],
      "metadata": {
        "id": "146I3tMIahKv"
      }
    },
    {
      "cell_type": "code",
      "source": [
        "import matplotlib.pyplot as plt\n",
        "from statsmodels.stats.multicomp import pairwise_tukeyhsd\n",
        "\n",
        "long_df = sightings_per_zip[['Borough', 'Sightings']].copy()\n",
        "long_df = long_df.explode('Sightings').reset_index(drop=True)\n",
        "long_df['Sightings'] = pd.to_numeric(long_df['Sightings'], errors='coerce')\n",
        "\n",
        "# Perform Tukey's HSD test\n",
        "tukey_results = pairwise_tukeyhsd(long_df['Sightings'], long_df['Borough'], alpha=0.05)\n",
        "print(tukey_results)\n"
      ],
      "metadata": {
        "colab": {
          "base_uri": "https://localhost:8080/"
        },
        "id": "3Zl_qMfrVS6K",
        "outputId": "3e920035-10d0-424c-de5a-90b9c7aaa493"
      },
      "execution_count": 69,
      "outputs": [
        {
          "output_type": "stream",
          "name": "stdout",
          "text": [
            "         Multiple Comparison of Means - Tukey HSD, FWER=0.05         \n",
            "=====================================================================\n",
            "  group1      group2     meandiff  p-adj    lower      upper   reject\n",
            "---------------------------------------------------------------------\n",
            "    BRONX      BROOKLYN   636.7036  0.184  -159.8551 1433.2623  False\n",
            "    BRONX     MANHATTAN  -570.5648 0.2089 -1305.5915  164.4619  False\n",
            "    BRONX        QUEENS  -975.3527  0.003 -1710.3793  -240.326   True\n",
            "    BRONX STATEN ISLAND  -743.2011 0.3729 -1875.6395  389.2372  False\n",
            " BROOKLYN     MANHATTAN -1207.2684    0.0 -1858.4881 -556.0487   True\n",
            " BROOKLYN        QUEENS -1612.0563    0.0  -2263.276 -960.8366   True\n",
            " BROOKLYN STATEN ISLAND -1379.9048 0.0048 -2459.8305 -299.9791   True\n",
            "MANHATTAN        QUEENS  -404.7879 0.2999  -979.1097  169.5339  False\n",
            "MANHATTAN STATEN ISLAND  -172.6364 0.9908 -1208.0097   862.737  False\n",
            "   QUEENS STATEN ISLAND   232.1515 0.9723  -803.2218 1267.5248  False\n",
            "---------------------------------------------------------------------\n"
          ]
        }
      ]
    },
    {
      "cell_type": "markdown",
      "source": [
        "The results suggest that Brooklyn has significantly lower rat sightings compared to boroughs such as Manhattan, Queens, and Staten Island.\n",
        "\n",
        "The results do not suggest significant differences in sightings between Bronx and Brooklyn, or between some other borough pairs.\n",
        "\n",
        "\n",
        "One consideration to make is the size  of respective regions when interpreting these results. It would be important to incorporate this data to determine concentration of rat sightings when performing analysis within our final findings."
      ],
      "metadata": {
        "id": "9S7TwG1gbSrz"
      }
    },
    {
      "cell_type": "markdown",
      "source": [
        "# Part 5: Rat Sightings in Residential vs. Non-Residential Properties"
      ],
      "metadata": {
        "id": "AUJNi5fAtI6a"
      }
    },
    {
      "cell_type": "markdown",
      "source": [
        "## **Test 3:** Mann-Whitney Test on Residential vs. Non-Residential Rat Sightings"
      ],
      "metadata": {
        "id": "zjYInDtrNRDN"
      }
    },
    {
      "cell_type": "code",
      "source": [
        "from scipy.stats import mannwhitneyu\n",
        "\n",
        "residential_sightings = residential_df['Incident Zip'].value_counts()\n",
        "non_residential_sightings = nonresidential_df['Incident Zip'].value_counts()\n",
        "\n",
        "# Mann-Whitney U Test\n",
        "u_stat, p_value = mannwhitneyu(residential_sightings, non_residential_sightings, alternative='two-sided')\n",
        "\n",
        "# Output results\n",
        "print(f'Mann-Whitney U Statistic: {u_stat}, P-value: {p_value}')"
      ],
      "metadata": {
        "colab": {
          "base_uri": "https://localhost:8080/"
        },
        "id": "7v2Bih4kIS9s",
        "outputId": "26214552-bfa8-4ef4-c44e-faf8e319cd8d"
      },
      "execution_count": 70,
      "outputs": [
        {
          "output_type": "stream",
          "name": "stdout",
          "text": [
            "Mann-Whitney U Statistic: 29047.0, P-value: 5.084196762032582e-22\n"
          ]
        }
      ]
    },
    {
      "cell_type": "markdown",
      "source": [
        "As the p-value of 5.245e-22 is less than the significance level, alpha = 0.05, we reject the Null Hypothesis (H₀) that the distribution of rat sightings in residential areas is equal to that in non-residential areas. This proves that we have statistically significant evidence to conclude in favor of the alternative hypothesis that the distribution of rat sightings in residential areas is not equal to that in non-residential areas."
      ],
      "metadata": {
        "id": "etNkTwoeIjIS"
      }
    },
    {
      "cell_type": "markdown",
      "source": [
        "### Visualization\n",
        "\n",
        "We can also visualize the results from the Mann-Whitney Test using a bar graph:"
      ],
      "metadata": {
        "id": "3ie2_SKsNU2v"
      }
    },
    {
      "cell_type": "code",
      "source": [
        "# Visualization\n",
        "counts = pd.DataFrame({\n",
        "    'Area Type': ['Residential', 'Non-Residential'],\n",
        "    'Sightings': [residential_sightings.sum(), non_residential_sightings.sum()]\n",
        "})\n",
        "\n",
        "plt.figure(figsize=(8, 5))\n",
        "plt.bar(counts['Area Type'], counts['Sightings'], color=['lightblue', 'salmon'])\n",
        "plt.title('Total Rat Sightings: Residential vs Non-Residential Areas')\n",
        "plt.xlabel('Area Type')\n",
        "plt.ylabel('Number of Sightings')\n",
        "plt.xticks(rotation=0)\n",
        "plt.grid(axis='y')\n",
        "plt.show()"
      ],
      "metadata": {
        "colab": {
          "base_uri": "https://localhost:8080/",
          "height": 487
        },
        "id": "EIGLo6lOIwGv",
        "outputId": "57423ac0-d5c7-4a0e-f3a5-a1de9a90071f"
      },
      "execution_count": 71,
      "outputs": [
        {
          "output_type": "display_data",
          "data": {
            "text/plain": [
              "<Figure size 800x500 with 1 Axes>"
            ],
            "image/png": "[encoded data removed]"
          },
          "metadata": {}
        }
      ]
    },
    {
      "cell_type": "markdown",
      "source": [
        "# Part 6 (Appendix): Analyzing Income - Cleaning & Visualizing Income in New York\n",
        "\n",
        "\n",
        "We also cleaned a dataset on income differences in New York across Boroughs. Merging this dataset with our rat sightings dataset will be useful to provide insights into rat sighting relationships with income levels across New York."
      ],
      "metadata": {
        "id": "SwsXSDCIDvhR"
      }
    },
    {
      "cell_type": "markdown",
      "source": [
        "Loading in the US Census data for income per zipcode and the zipcode to borough CSVs:"
      ],
      "metadata": {
        "id": "gr02IgAgTM53"
      }
    },
    {
      "cell_type": "code",
      "source": [
        "income_df = pd.read_csv(\"us_income_zipcode.csv\")\n",
        "zipcode_borough = pd.read_csv(\"New_York_State_ZIP_Codes-County_FIPS_Cross-Reference.csv\")"
      ],
      "metadata": {
        "id": "nZwSEAUwTOYH"
      },
      "execution_count": 72,
      "outputs": []
    },
    {
      "cell_type": "markdown",
      "source": [
        "Now, we will clean the income and borough dataframes so that we can merge them together. First, we will drop all of the Margin of Error columns, as this data is not useful for our purposes. We are also dropping Geography, Geographic Area Name, State FIPS, County Code, File Date, and County FIPS as well for the same reasons. Afterwards, we merge the borough and income datasets on ZIP code. During this merge, we come to realize that Married-Couple Families Mean Income (Dollars) has a large number of NAN values (905), so we are choosing to not work with this column. After making Households and year into ints, we will use the dropna() function to drop our NA values."
      ],
      "metadata": {
        "id": "Rn8kVzbgTTHL"
      }
    },
    {
      "cell_type": "code",
      "source": [
        "### Dropping all margin of error columns\n",
        "def drop_margin_cols():\n",
        "    lst = income_df.columns\n",
        "    remove_list = []\n",
        "\n",
        "    for col in lst:\n",
        "        if \"Margin of Error\" in col:\n",
        "            remove_list.append(col)\n",
        "    return remove_list\n",
        "\n",
        "lst = drop_margin_cols()\n",
        "income_df.drop(lst, axis=1, inplace=True)\n",
        "\n",
        "#Dropping columns we don't need from income_df\n",
        "income_df.drop([\"Geography\", \"Geographic Area Name\"], axis=1, inplace=True)\n",
        "\n",
        "#Dropping columns we don't need from borough df\n",
        "zipcode_borough.drop([\"State FIPS\", \"County Code\", \"File Date\", \"County FIPS\"], axis=1, inplace=True)\n",
        "\n",
        "#merging the dataframes together\n",
        "merged_df = income_df.merge(zipcode_borough, left_on=\"ZIP\", right_on=\"ZIP Code\")\n",
        "\n",
        "#Filtering to only the counties that we want to look at (NYC Area)\n",
        "merged_df = merged_df[(merged_df[\"County Name\"] == \"Bronx\") | (merged_df[\"County Name\"] == \"Queens\") | (merged_df[\"County Name\"] == \"New York\") | (merged_df[\"County Name\"] == \"Kings\") | (merged_df[\"County Name\"] == \"Richmond\")]\n",
        "\n",
        "#Dropping this Mean Income because of the number of NaN values we found (905)\n",
        "#Dropping ZIP Code cause we don't need it\n",
        "merged_df.drop([\"Married-Couple Families Mean Income (Dollars)\", \"ZIP Code\"], axis=1, inplace=True)\n",
        "\n",
        "#Fixing year to make it an int\n",
        "merged_df[\"Year\"] = merged_df[\"Year\"].astype(int)\n",
        "\n",
        "#Fixing households to make them ints\n",
        "merged_df[\"Households\"] = merged_df[\"Households\"].astype(int)\n",
        "\n",
        "#No more NA values!!!\n",
        "merged_df.dropna()"
      ],
      "metadata": {
        "id": "OaPh6zzNTVhw",
        "colab": {
          "base_uri": "https://localhost:8080/",
          "height": 617
        },
        "outputId": "f1d70517-a084-4847-c28a-65212bb17575"
      },
      "execution_count": 73,
      "outputs": [
        {
          "output_type": "execute_result",
          "data": {
            "text/plain": [
              "         ZIP  Households  Households Less Than $10,000  \\\n",
              "1      10001       14273                           7.2   \n",
              "2      10002       34737                          13.0   \n",
              "3      10003       25181                           6.8   \n",
              "4      10004        2113                           2.2   \n",
              "5      10005        4782                           0.9   \n",
              "...      ...         ...                           ...   \n",
              "22134  11692        5830                          14.6   \n",
              "22135  11693        4583                          12.3   \n",
              "22136  11693        4583                          12.3   \n",
              "22137  11694        8135                           4.9   \n",
              "22138  11697        1794                           2.8   \n",
              "\n",
              "       Households $10,000 to $14,999  Households $15,000 to $24,999  \\\n",
              "1                                3.4                            5.4   \n",
              "2                               11.8                           12.9   \n",
              "3                                2.2                            3.3   \n",
              "4                                0.0                            0.9   \n",
              "5                                0.0                            0.1   \n",
              "...                              ...                            ...   \n",
              "22134                            8.0                            9.2   \n",
              "22135                            4.6                            7.6   \n",
              "22136                            4.6                            7.6   \n",
              "22137                            4.2                            8.1   \n",
              "22138                            2.5                            9.8   \n",
              "\n",
              "       Households $25,000 to $34,999  Households $35,000 to $49,999  \\\n",
              "1                                3.3                            7.4   \n",
              "2                               10.0                            9.1   \n",
              "3                                4.3                            4.2   \n",
              "4                                1.6                            0.4   \n",
              "5                                1.4                            2.1   \n",
              "...                              ...                            ...   \n",
              "22134                           16.0                           11.7   \n",
              "22135                            7.8                           17.6   \n",
              "22136                            7.8                           17.6   \n",
              "22137                           10.3                            9.3   \n",
              "22138                            6.0                            7.0   \n",
              "\n",
              "       Households $50,000 to $74,999  Households $75,000 to $99,999  \\\n",
              "1                               11.5                           11.2   \n",
              "2                               11.2                            9.2   \n",
              "3                               11.9                            6.9   \n",
              "4                                2.0                            6.1   \n",
              "5                                9.2                            6.1   \n",
              "...                              ...                            ...   \n",
              "22134                           17.1                            8.5   \n",
              "22135                           16.1                           14.8   \n",
              "22136                           16.1                           14.8   \n",
              "22137                           14.3                           11.6   \n",
              "22138                           11.0                           20.5   \n",
              "\n",
              "       Households $100,000 to $149,999  ...  \\\n",
              "1                                 14.9  ...   \n",
              "2                                  9.2  ...   \n",
              "3                                 13.3  ...   \n",
              "4                                 13.5  ...   \n",
              "5                                 15.2  ...   \n",
              "...                                ...  ...   \n",
              "22134                             10.3  ...   \n",
              "22135                             15.4  ...   \n",
              "22136                             15.4  ...   \n",
              "22137                             20.3  ...   \n",
              "22138                             22.5  ...   \n",
              "\n",
              "       Nonfamily Households $50,000 to $74,999  \\\n",
              "1                                         12.2   \n",
              "2                                         10.0   \n",
              "3                                         14.7   \n",
              "4                                          3.1   \n",
              "5                                         11.7   \n",
              "...                                        ...   \n",
              "22134                                     14.9   \n",
              "22135                                     16.3   \n",
              "22136                                     16.3   \n",
              "22137                                     16.4   \n",
              "22138                                     16.0   \n",
              "\n",
              "       Nonfamily Households $75,000 to $99,999  \\\n",
              "1                                         13.0   \n",
              "2                                          9.4   \n",
              "3                                          7.6   \n",
              "4                                         10.6   \n",
              "5                                          5.0   \n",
              "...                                        ...   \n",
              "22134                                      7.9   \n",
              "22135                                     10.2   \n",
              "22136                                     10.2   \n",
              "22137                                     10.9   \n",
              "22138                                     14.7   \n",
              "\n",
              "       Nonfamily Households $100,000 to $149,999  \\\n",
              "1                                           15.7   \n",
              "2                                           10.1   \n",
              "3                                           14.2   \n",
              "4                                           19.9   \n",
              "5                                           17.2   \n",
              "...                                          ...   \n",
              "22134                                        5.3   \n",
              "22135                                        5.9   \n",
              "22136                                        5.9   \n",
              "22137                                       11.4   \n",
              "22138                                        6.2   \n",
              "\n",
              "       Nonfamily Households $150,000 to $199,999  \\\n",
              "1                                           11.4   \n",
              "2                                            4.3   \n",
              "3                                           10.7   \n",
              "4                                           21.0   \n",
              "5                                           18.4   \n",
              "...                                          ...   \n",
              "22134                                        0.3   \n",
              "22135                                        1.6   \n",
              "22136                                        1.6   \n",
              "22137                                        0.4   \n",
              "22138                                        1.9   \n",
              "\n",
              "       Nonfamily Households $200,000 or More  \\\n",
              "1                                       19.0   \n",
              "2                                        8.0   \n",
              "3                                       27.7   \n",
              "4                                       38.7   \n",
              "5                                       41.4   \n",
              "...                                      ...   \n",
              "22134                                    1.2   \n",
              "22135                                    2.6   \n",
              "22136                                    2.6   \n",
              "22137                                    1.7   \n",
              "22138                                    1.9   \n",
              "\n",
              "       Nonfamily Households Median Income (Dollars)  \\\n",
              "1                                           89723.0   \n",
              "2                                           32489.0   \n",
              "3                                          105808.0   \n",
              "4                                          159518.0   \n",
              "5                                          185125.0   \n",
              "...                                             ...   \n",
              "22134                                       25617.0   \n",
              "22135                                       40742.0   \n",
              "22136                                       40742.0   \n",
              "22137                                       37194.0   \n",
              "22138                                       36696.0   \n",
              "\n",
              "       Nonfamily Households Mean Income (Dollars)  \\\n",
              "1                                        131592.0   \n",
              "2                                         69003.0   \n",
              "3                                        175535.0   \n",
              "4                                        218597.0   \n",
              "5                                        198121.0   \n",
              "...                                           ...   \n",
              "22134                                     39178.0   \n",
              "22135                                     57435.0   \n",
              "22136                                     57435.0   \n",
              "22137                                     52125.0   \n",
              "22138                                     50492.0   \n",
              "\n",
              "       Nonfamily Households Nonfamily Income in the Past 12 Months  Year  \\\n",
              "1                                                   20.1            2021   \n",
              "2                                                   34.8            2021   \n",
              "3                                                   28.5            2021   \n",
              "4                                                   25.7            2021   \n",
              "5                                                   21.7            2021   \n",
              "...                                                  ...             ...   \n",
              "22134                                               40.4            2011   \n",
              "22135                                               46.1            2011   \n",
              "22136                                               46.1            2011   \n",
              "22137                                               47.7            2011   \n",
              "22138                                               26.2            2011   \n",
              "\n",
              "       County Name  \n",
              "1         New York  \n",
              "2         New York  \n",
              "3         New York  \n",
              "4         New York  \n",
              "5         New York  \n",
              "...            ...  \n",
              "22134       Queens  \n",
              "22135        Kings  \n",
              "22136       Queens  \n",
              "22137       Queens  \n",
              "22138       Queens  \n",
              "\n",
              "[2051 rows x 57 columns]"
            ],
            "text/html": [
              "\n",
              "  <div id=\"df-0162ea79-c4ab-4b1c-9779-dbb18713049e\" class=\"colab-df-container\">\n",
              "    <div>\n",
              "<style scoped>\n",
              "    .dataframe tbody tr th:only-of-type {\n",
              "        vertical-align: middle;\n",
              "    }\n",
              "\n",
              "    .dataframe tbody tr th {\n",
              "        vertical-align: top;\n",
              "    }\n",
              "\n",
              "    .dataframe thead th {\n",
              "        text-align: right;\n",
              "    }\n",
              "</style>\n",
              "<table border=\"1\" class=\"dataframe\">\n",
              "  <thead>\n",
              "    <tr style=\"text-align: right;\">\n",
              "      <th></th>\n",
              "      <th>ZIP</th>\n",
              "      <th>Households</th>\n",
              "      <th>Households Less Than $10,000</th>\n",
              "      <th>Households $10,000 to $14,999</th>\n",
              "      <th>Households $15,000 to $24,999</th>\n",
              "      <th>Households $25,000 to $34,999</th>\n",
              "      <th>Households $35,000 to $49,999</th>\n",
              "      <th>Households $50,000 to $74,999</th>\n",
              "      <th>Households $75,000 to $99,999</th>\n",
              "      <th>Households $100,000 to $149,999</th>\n",
              "      <th>...</th>\n",
              "      <th>Nonfamily Households $50,000 to $74,999</th>\n",
              "      <th>Nonfamily Households $75,000 to $99,999</th>\n",
              "      <th>Nonfamily Households $100,000 to $149,999</th>\n",
              "      <th>Nonfamily Households $150,000 to $199,999</th>\n",
              "      <th>Nonfamily Households $200,000 or More</th>\n",
              "      <th>Nonfamily Households Median Income (Dollars)</th>\n",
              "      <th>Nonfamily Households Mean Income (Dollars)</th>\n",
              "      <th>Nonfamily Households Nonfamily Income in the Past 12 Months</th>\n",
              "      <th>Year</th>\n",
              "      <th>County Name</th>\n",
              "    </tr>\n",
              "  </thead>\n",
              "  <tbody>\n",
              "    <tr>\n",
              "      <th>1</th>\n",
              "      <td>10001</td>\n",
              "      <td>14273</td>\n",
              "      <td>7.2</td>\n",
              "      <td>3.4</td>\n",
              "      <td>5.4</td>\n",
              "      <td>3.3</td>\n",
              "      <td>7.4</td>\n",
              "      <td>11.5</td>\n",
              "      <td>11.2</td>\n",
              "      <td>14.9</td>\n",
              "      <td>...</td>\n",
              "      <td>12.2</td>\n",
              "      <td>13.0</td>\n",
              "      <td>15.7</td>\n",
              "      <td>11.4</td>\n",
              "      <td>19.0</td>\n",
              "      <td>89723.0</td>\n",
              "      <td>131592.0</td>\n",
              "      <td>20.1</td>\n",
              "      <td>2021</td>\n",
              "      <td>New York</td>\n",
              "    </tr>\n",
              "    <tr>\n",
              "      <th>2</th>\n",
              "      <td>10002</td>\n",
              "      <td>34737</td>\n",
              "      <td>13.0</td>\n",
              "      <td>11.8</td>\n",
              "      <td>12.9</td>\n",
              "      <td>10.0</td>\n",
              "      <td>9.1</td>\n",
              "      <td>11.2</td>\n",
              "      <td>9.2</td>\n",
              "      <td>9.2</td>\n",
              "      <td>...</td>\n",
              "      <td>10.0</td>\n",
              "      <td>9.4</td>\n",
              "      <td>10.1</td>\n",
              "      <td>4.3</td>\n",
              "      <td>8.0</td>\n",
              "      <td>32489.0</td>\n",
              "      <td>69003.0</td>\n",
              "      <td>34.8</td>\n",
              "      <td>2021</td>\n",
              "      <td>New York</td>\n",
              "    </tr>\n",
              "    <tr>\n",
              "      <th>3</th>\n",
              "      <td>10003</td>\n",
              "      <td>25181</td>\n",
              "      <td>6.8</td>\n",
              "      <td>2.2</td>\n",
              "      <td>3.3</td>\n",
              "      <td>4.3</td>\n",
              "      <td>4.2</td>\n",
              "      <td>11.9</td>\n",
              "      <td>6.9</td>\n",
              "      <td>13.3</td>\n",
              "      <td>...</td>\n",
              "      <td>14.7</td>\n",
              "      <td>7.6</td>\n",
              "      <td>14.2</td>\n",
              "      <td>10.7</td>\n",
              "      <td>27.7</td>\n",
              "      <td>105808.0</td>\n",
              "      <td>175535.0</td>\n",
              "      <td>28.5</td>\n",
              "      <td>2021</td>\n",
              "      <td>New York</td>\n",
              "    </tr>\n",
              "    <tr>\n",
              "      <th>4</th>\n",
              "      <td>10004</td>\n",
              "      <td>2113</td>\n",
              "      <td>2.2</td>\n",
              "      <td>0.0</td>\n",
              "      <td>0.9</td>\n",
              "      <td>1.6</td>\n",
              "      <td>0.4</td>\n",
              "      <td>2.0</td>\n",
              "      <td>6.1</td>\n",
              "      <td>13.5</td>\n",
              "      <td>...</td>\n",
              "      <td>3.1</td>\n",
              "      <td>10.6</td>\n",
              "      <td>19.9</td>\n",
              "      <td>21.0</td>\n",
              "      <td>38.7</td>\n",
              "      <td>159518.0</td>\n",
              "      <td>218597.0</td>\n",
              "      <td>25.7</td>\n",
              "      <td>2021</td>\n",
              "      <td>New York</td>\n",
              "    </tr>\n",
              "    <tr>\n",
              "      <th>5</th>\n",
              "      <td>10005</td>\n",
              "      <td>4782</td>\n",
              "      <td>0.9</td>\n",
              "      <td>0.0</td>\n",
              "      <td>0.1</td>\n",
              "      <td>1.4</td>\n",
              "      <td>2.1</td>\n",
              "      <td>9.2</td>\n",
              "      <td>6.1</td>\n",
              "      <td>15.2</td>\n",
              "      <td>...</td>\n",
              "      <td>11.7</td>\n",
              "      <td>5.0</td>\n",
              "      <td>17.2</td>\n",
              "      <td>18.4</td>\n",
              "      <td>41.4</td>\n",
              "      <td>185125.0</td>\n",
              "      <td>198121.0</td>\n",
              "      <td>21.7</td>\n",
              "      <td>2021</td>\n",
              "      <td>New York</td>\n",
              "    </tr>\n",
              "    <tr>\n",
              "      <th>...</th>\n",
              "      <td>...</td>\n",
              "      <td>...</td>\n",
              "      <td>...</td>\n",
              "      <td>...</td>\n",
              "      <td>...</td>\n",
              "      <td>...</td>\n",
              "      <td>...</td>\n",
              "      <td>...</td>\n",
              "      <td>...</td>\n",
              "      <td>...</td>\n",
              "      <td>...</td>\n",
              "      <td>...</td>\n",
              "      <td>...</td>\n",
              "      <td>...</td>\n",
              "      <td>...</td>\n",
              "      <td>...</td>\n",
              "      <td>...</td>\n",
              "      <td>...</td>\n",
              "      <td>...</td>\n",
              "      <td>...</td>\n",
              "      <td>...</td>\n",
              "    </tr>\n",
              "    <tr>\n",
              "      <th>22134</th>\n",
              "      <td>11692</td>\n",
              "      <td>5830</td>\n",
              "      <td>14.6</td>\n",
              "      <td>8.0</td>\n",
              "      <td>9.2</td>\n",
              "      <td>16.0</td>\n",
              "      <td>11.7</td>\n",
              "      <td>17.1</td>\n",
              "      <td>8.5</td>\n",
              "      <td>10.3</td>\n",
              "      <td>...</td>\n",
              "      <td>14.9</td>\n",
              "      <td>7.9</td>\n",
              "      <td>5.3</td>\n",
              "      <td>0.3</td>\n",
              "      <td>1.2</td>\n",
              "      <td>25617.0</td>\n",
              "      <td>39178.0</td>\n",
              "      <td>40.4</td>\n",
              "      <td>2011</td>\n",
              "      <td>Queens</td>\n",
              "    </tr>\n",
              "    <tr>\n",
              "      <th>22135</th>\n",
              "      <td>11693</td>\n",
              "      <td>4583</td>\n",
              "      <td>12.3</td>\n",
              "      <td>4.6</td>\n",
              "      <td>7.6</td>\n",
              "      <td>7.8</td>\n",
              "      <td>17.6</td>\n",
              "      <td>16.1</td>\n",
              "      <td>14.8</td>\n",
              "      <td>15.4</td>\n",
              "      <td>...</td>\n",
              "      <td>16.3</td>\n",
              "      <td>10.2</td>\n",
              "      <td>5.9</td>\n",
              "      <td>1.6</td>\n",
              "      <td>2.6</td>\n",
              "      <td>40742.0</td>\n",
              "      <td>57435.0</td>\n",
              "      <td>46.1</td>\n",
              "      <td>2011</td>\n",
              "      <td>Kings</td>\n",
              "    </tr>\n",
              "    <tr>\n",
              "      <th>22136</th>\n",
              "      <td>11693</td>\n",
              "      <td>4583</td>\n",
              "      <td>12.3</td>\n",
              "      <td>4.6</td>\n",
              "      <td>7.6</td>\n",
              "      <td>7.8</td>\n",
              "      <td>17.6</td>\n",
              "      <td>16.1</td>\n",
              "      <td>14.8</td>\n",
              "      <td>15.4</td>\n",
              "      <td>...</td>\n",
              "      <td>16.3</td>\n",
              "      <td>10.2</td>\n",
              "      <td>5.9</td>\n",
              "      <td>1.6</td>\n",
              "      <td>2.6</td>\n",
              "      <td>40742.0</td>\n",
              "      <td>57435.0</td>\n",
              "      <td>46.1</td>\n",
              "      <td>2011</td>\n",
              "      <td>Queens</td>\n",
              "    </tr>\n",
              "    <tr>\n",
              "      <th>22137</th>\n",
              "      <td>11694</td>\n",
              "      <td>8135</td>\n",
              "      <td>4.9</td>\n",
              "      <td>4.2</td>\n",
              "      <td>8.1</td>\n",
              "      <td>10.3</td>\n",
              "      <td>9.3</td>\n",
              "      <td>14.3</td>\n",
              "      <td>11.6</td>\n",
              "      <td>20.3</td>\n",
              "      <td>...</td>\n",
              "      <td>16.4</td>\n",
              "      <td>10.9</td>\n",
              "      <td>11.4</td>\n",
              "      <td>0.4</td>\n",
              "      <td>1.7</td>\n",
              "      <td>37194.0</td>\n",
              "      <td>52125.0</td>\n",
              "      <td>47.7</td>\n",
              "      <td>2011</td>\n",
              "      <td>Queens</td>\n",
              "    </tr>\n",
              "    <tr>\n",
              "      <th>22138</th>\n",
              "      <td>11697</td>\n",
              "      <td>1794</td>\n",
              "      <td>2.8</td>\n",
              "      <td>2.5</td>\n",
              "      <td>9.8</td>\n",
              "      <td>6.0</td>\n",
              "      <td>7.0</td>\n",
              "      <td>11.0</td>\n",
              "      <td>20.5</td>\n",
              "      <td>22.5</td>\n",
              "      <td>...</td>\n",
              "      <td>16.0</td>\n",
              "      <td>14.7</td>\n",
              "      <td>6.2</td>\n",
              "      <td>1.9</td>\n",
              "      <td>1.9</td>\n",
              "      <td>36696.0</td>\n",
              "      <td>50492.0</td>\n",
              "      <td>26.2</td>\n",
              "      <td>2011</td>\n",
              "      <td>Queens</td>\n",
              "    </tr>\n",
              "  </tbody>\n",
              "</table>\n",
              "<p>2051 rows × 57 columns</p>\n",
              "</div>\n",
              "    <div class=\"colab-df-buttons\">\n",
              "\n",
              "  <div class=\"colab-df-container\">\n",
              "    <button class=\"colab-df-convert\" onclick=\"convertToInteractive('df-0162ea79-c4ab-4b1c-9779-dbb18713049e')\"\n",
              "            title=\"Convert this dataframe to an interactive table.\"\n",
              "            style=\"display:none;\">\n",
              "\n",
              "  <svg xmlns=\"http://www.w3.org/2000/svg\" height=\"24px\" viewBox=\"0 -960 960 960\">\n",
              "    <path d=\"M120-120v-720h720v720H120Zm60-500h600v-160H180v160Zm220 220h160v-160H400v160Zm0 220h160v-160H400v160ZM180-400h160v-160H180v160Zm440 0h160v-160H620v160ZM180-180h160v-160H180v160Zm440 0h160v-160H620v160Z\"/>\n",
              "  </svg>\n",
              "    </button>\n",
              "\n",
              "  <style>\n",
              "    .colab-df-container {\n",
              "      display:flex;\n",
              "      gap: 12px;\n",
              "    }\n",
              "\n",
              "    .colab-df-convert {\n",
              "      background-color: #E8F0FE;\n",
              "      border: none;\n",
              "      border-radius: 50%;\n",
              "      cursor: pointer;\n",
              "      display: none;\n",
              "      fill: #1967D2;\n",
              "      height: 32px;\n",
              "      padding: 0 0 0 0;\n",
              "      width: 32px;\n",
              "    }\n",
              "\n",
              "    .colab-df-convert:hover {\n",
              "      background-color: #E2EBFA;\n",
              "      box-shadow: 0px 1px 2px rgba(60, 64, 67, 0.3), 0px 1px 3px 1px rgba(60, 64, 67, 0.15);\n",
              "      fill: #174EA6;\n",
              "    }\n",
              "\n",
              "    .colab-df-buttons div {\n",
              "      margin-bottom: 4px;\n",
              "    }\n",
              "\n",
              "    [theme=dark] .colab-df-convert {\n",
              "      background-color: #3B4455;\n",
              "      fill: #D2E3FC;\n",
              "    }\n",
              "\n",
              "    [theme=dark] .colab-df-convert:hover {\n",
              "      background-color: #434B5C;\n",
              "      box-shadow: 0px 1px 3px 1px rgba(0, 0, 0, 0.15);\n",
              "      filter: drop-shadow(0px 1px 2px rgba(0, 0, 0, 0.3));\n",
              "      fill: #FFFFFF;\n",
              "    }\n",
              "  </style>\n",
              "\n",
              "    <script>\n",
              "      const buttonEl =\n",
              "        document.querySelector('#df-0162ea79-c4ab-4b1c-9779-dbb18713049e button.colab-df-convert');\n",
              "      buttonEl.style.display =\n",
              "        google.colab.kernel.accessAllowed ? 'block' : 'none';\n",
              "\n",
              "      async function convertToInteractive(key) {\n",
              "        const element = document.querySelector('#df-0162ea79-c4ab-4b1c-9779-dbb18713049e');\n",
              "        const dataTable =\n",
              "          await google.colab.kernel.invokeFunction('convertToInteractive',\n",
              "                                                    [key], {});\n",
              "        if (!dataTable) return;\n",
              "\n",
              "        const docLinkHtml = 'Like what you see? Visit the ' +\n",
              "          '<a target=\"_blank\" href=https://colab.research.google.com/notebooks/data_table.ipynb>data table notebook</a>'\n",
              "          + ' to learn more about interactive tables.';\n",
              "        element.innerHTML = '';\n",
              "        dataTable['output_type'] = 'display_data';\n",
              "        await google.colab.output.renderOutput(dataTable, element);\n",
              "        const docLink = document.createElement('div');\n",
              "        docLink.innerHTML = docLinkHtml;\n",
              "        element.appendChild(docLink);\n",
              "      }\n",
              "    </script>\n",
              "  </div>\n",
              "\n",
              "\n",
              "<div id=\"df-9647995e-137b-439e-b8ec-9a812899e08b\">\n",
              "  <button class=\"colab-df-quickchart\" onclick=\"quickchart('df-9647995e-137b-439e-b8ec-9a812899e08b')\"\n",
              "            title=\"Suggest charts\"\n",
              "            style=\"display:none;\">\n",
              "\n",
              "<svg xmlns=\"http://www.w3.org/2000/svg\" height=\"24px\"viewBox=\"0 0 24 24\"\n",
              "     width=\"24px\">\n",
              "    <g>\n",
              "        <path d=\"M19 3H5c-1.1 0-2 .9-2 2v14c0 1.1.9 2 2 2h14c1.1 0 2-.9 2-2V5c0-1.1-.9-2-2-2zM9 17H7v-7h2v7zm4 0h-2V7h2v10zm4 0h-2v-4h2v4z\"/>\n",
              "    </g>\n",
              "</svg>\n",
              "  </button>\n",
              "\n",
              "<style>\n",
              "  .colab-df-quickchart {\n",
              "      --bg-color: #E8F0FE;\n",
              "      --fill-color: #1967D2;\n",
              "      --hover-bg-color: #E2EBFA;\n",
              "      --hover-fill-color: #174EA6;\n",
              "      --disabled-fill-color: #AAA;\n",
              "      --disabled-bg-color: #DDD;\n",
              "  }\n",
              "\n",
              "  [theme=dark] .colab-df-quickchart {\n",
              "      --bg-color: #3B4455;\n",
              "      --fill-color: #D2E3FC;\n",
              "      --hover-bg-color: #434B5C;\n",
              "      --hover-fill-color: #FFFFFF;\n",
              "      --disabled-bg-color: #3B4455;\n",
              "      --disabled-fill-color: #666;\n",
              "  }\n",
              "\n",
              "  .colab-df-quickchart {\n",
              "    background-color: var(--bg-color);\n",
              "    border: none;\n",
              "    border-radius: 50%;\n",
              "    cursor: pointer;\n",
              "    display: none;\n",
              "    fill: var(--fill-color);\n",
              "    height: 32px;\n",
              "    padding: 0;\n",
              "    width: 32px;\n",
              "  }\n",
              "\n",
              "  .colab-df-quickchart:hover {\n",
              "    background-color: var(--hover-bg-color);\n",
              "    box-shadow: 0 1px 2px rgba(60, 64, 67, 0.3), 0 1px 3px 1px rgba(60, 64, 67, 0.15);\n",
              "    fill: var(--button-hover-fill-color);\n",
              "  }\n",
              "\n",
              "  .colab-df-quickchart-complete:disabled,\n",
              "  .colab-df-quickchart-complete:disabled:hover {\n",
              "    background-color: var(--disabled-bg-color);\n",
              "    fill: var(--disabled-fill-color);\n",
              "    box-shadow: none;\n",
              "  }\n",
              "\n",
              "  .colab-df-spinner {\n",
              "    border: 2px solid var(--fill-color);\n",
              "    border-color: transparent;\n",
              "    border-bottom-color: var(--fill-color);\n",
              "    animation:\n",
              "      spin 1s steps(1) infinite;\n",
              "  }\n",
              "\n",
              "  @keyframes spin {\n",
              "    0% {\n",
              "      border-color: transparent;\n",
              "      border-bottom-color: var(--fill-color);\n",
              "      border-left-color: var(--fill-color);\n",
              "    }\n",
              "    20% {\n",
              "      border-color: transparent;\n",
              "      border-left-color: var(--fill-color);\n",
              "      border-top-color: var(--fill-color);\n",
              "    }\n",
              "    30% {\n",
              "      border-color: transparent;\n",
              "      border-left-color: var(--fill-color);\n",
              "      border-top-color: var(--fill-color);\n",
              "      border-right-color: var(--fill-color);\n",
              "    }\n",
              "    40% {\n",
              "      border-color: transparent;\n",
              "      border-right-color: var(--fill-color);\n",
              "      border-top-color: var(--fill-color);\n",
              "    }\n",
              "    60% {\n",
              "      border-color: transparent;\n",
              "      border-right-color: var(--fill-color);\n",
              "    }\n",
              "    80% {\n",
              "      border-color: transparent;\n",
              "      border-right-color: var(--fill-color);\n",
              "      border-bottom-color: var(--fill-color);\n",
              "    }\n",
              "    90% {\n",
              "      border-color: transparent;\n",
              "      border-bottom-color: var(--fill-color);\n",
              "    }\n",
              "  }\n",
              "</style>\n",
              "\n",
              "  <script>\n",
              "    async function quickchart(key) {\n",
              "      const quickchartButtonEl =\n",
              "        document.querySelector('#' + key + ' button');\n",
              "      quickchartButtonEl.disabled = true;  // To prevent multiple clicks.\n",
              "      quickchartButtonEl.classList.add('colab-df-spinner');\n",
              "      try {\n",
              "        const charts = await google.colab.kernel.invokeFunction(\n",
              "            'suggestCharts', [key], {});\n",
              "      } catch (error) {\n",
              "        console.error('Error during call to suggestCharts:', error);\n",
              "      }\n",
              "      quickchartButtonEl.classList.remove('colab-df-spinner');\n",
              "      quickchartButtonEl.classList.add('colab-df-quickchart-complete');\n",
              "    }\n",
              "    (() => {\n",
              "      let quickchartButtonEl =\n",
              "        document.querySelector('#df-9647995e-137b-439e-b8ec-9a812899e08b button');\n",
              "      quickchartButtonEl.style.display =\n",
              "        google.colab.kernel.accessAllowed ? 'block' : 'none';\n",
              "    })();\n",
              "  </script>\n",
              "</div>\n",
              "\n",
              "    </div>\n",
              "  </div>\n"
            ],
            "application/vnd.google.colaboratory.intrinsic+json": {
              "type": "dataframe"
            }
          },
          "metadata": {},
          "execution_count": 73
        }
      ]
    },
    {
      "cell_type": "markdown",
      "source": [
        "Now we will merge this dataframe with our rat sightings dataframe. Rename Incident Zip to ZIP and convert the values to ints. Then merge the dataframes on ZIP. Drop na values and begin working on a chi-squared test."
      ],
      "metadata": {
        "id": "OECKxZPVTYug"
      }
    },
    {
      "cell_type": "code",
      "source": [
        "#Making changes to df to merge well\n",
        "df[\"Incident Zip\"] = df[\"Incident Zip\"].astype(int)\n",
        "df.rename(columns={'Incident Zip': 'ZIP'}, inplace=True)\n",
        "\n",
        "#Merging\n",
        "merged_df.dropna()\n",
        "rat_income = df.merge(merged_df, on=\"ZIP\", how=\"inner\")\n",
        "\n",
        "#Getting rid of na values in the median income cols\n",
        "rat_income.dropna()\n",
        "rat_income.dropna(subset=[\"Families Median Income (Dollars)\", \"Married-Couple Families Median Income (Dollars)\"])"
      ],
      "metadata": {
        "id": "4T9NmSqvTeGI",
        "colab": {
          "base_uri": "https://localhost:8080/",
          "height": 877
        },
        "outputId": "11fd08a0-1e03-4930-e7b2-a93ae1b69c73"
      },
      "execution_count": 74,
      "outputs": [
        {
          "output_type": "execute_result",
          "data": {
            "text/plain": [
              "               Created Date Location Type    ZIP Community Board Borough  \\\n",
              "0       2024-05-31 00:10:00    Vacant Lot  11377       02 QUEENS  QUEENS   \n",
              "1       2024-05-31 00:10:00    Vacant Lot  11377       02 QUEENS  QUEENS   \n",
              "2       2024-05-31 00:10:00    Vacant Lot  11377       02 QUEENS  QUEENS   \n",
              "3       2024-05-31 00:10:00    Vacant Lot  11377       02 QUEENS  QUEENS   \n",
              "4       2024-05-31 00:10:00    Vacant Lot  11377       02 QUEENS  QUEENS   \n",
              "...                     ...           ...    ...             ...     ...   \n",
              "2791937 2024-05-15 20:11:00     3+ Family  11106       01 QUEENS  QUEENS   \n",
              "2791938 2024-05-15 20:11:00     3+ Family  11106       01 QUEENS  QUEENS   \n",
              "2791939 2024-05-15 20:11:00     3+ Family  11106       01 QUEENS  QUEENS   \n",
              "2791940 2024-05-15 20:11:00     3+ Family  11106       01 QUEENS  QUEENS   \n",
              "2791941 2024-05-15 20:11:00     3+ Family  11106       01 QUEENS  QUEENS   \n",
              "\n",
              "          Latitude  Longitude  Month  Week  Day  ...  \\\n",
              "0        40.740375 -73.896454      5    22   31  ...   \n",
              "1        40.740375 -73.896454      5    22   31  ...   \n",
              "2        40.740375 -73.896454      5    22   31  ...   \n",
              "3        40.740375 -73.896454      5    22   31  ...   \n",
              "4        40.740375 -73.896454      5    22   31  ...   \n",
              "...            ...        ...    ...   ...  ...  ...   \n",
              "2791937  40.759002 -73.926703      5    20   15  ...   \n",
              "2791938  40.759002 -73.926703      5    20   15  ...   \n",
              "2791939  40.759002 -73.926703      5    20   15  ...   \n",
              "2791940  40.759002 -73.926703      5    20   15  ...   \n",
              "2791941  40.759002 -73.926703      5    20   15  ...   \n",
              "\n",
              "        Nonfamily Households $50,000 to $74,999  \\\n",
              "0                                          18.3   \n",
              "1                                          17.1   \n",
              "2                                          18.6   \n",
              "3                                          20.5   \n",
              "4                                          21.3   \n",
              "...                                         ...   \n",
              "2791937                                    19.2   \n",
              "2791938                                    18.8   \n",
              "2791939                                    16.6   \n",
              "2791940                                    17.2   \n",
              "2791941                                    19.1   \n",
              "\n",
              "         Nonfamily Households $75,000 to $99,999  \\\n",
              "0                                           14.0   \n",
              "1                                           10.8   \n",
              "2                                           10.2   \n",
              "3                                            8.9   \n",
              "4                                            9.1   \n",
              "...                                          ...   \n",
              "2791937                                     13.0   \n",
              "2791938                                     13.6   \n",
              "2791939                                     11.3   \n",
              "2791940                                     11.2   \n",
              "2791941                                      9.4   \n",
              "\n",
              "         Nonfamily Households $100,000 to $149,999  \\\n",
              "0                                             10.0   \n",
              "1                                              9.7   \n",
              "2                                             10.4   \n",
              "3                                              9.3   \n",
              "4                                              8.6   \n",
              "...                                            ...   \n",
              "2791937                                       13.0   \n",
              "2791938                                       12.0   \n",
              "2791939                                       11.2   \n",
              "2791940                                       11.4   \n",
              "2791941                                       10.5   \n",
              "\n",
              "         Nonfamily Households $150,000 to $199,999  \\\n",
              "0                                              3.9   \n",
              "1                                              3.7   \n",
              "2                                              3.8   \n",
              "3                                              3.8   \n",
              "4                                              3.7   \n",
              "...                                            ...   \n",
              "2791937                                        3.5   \n",
              "2791938                                        3.2   \n",
              "2791939                                        3.4   \n",
              "2791940                                        2.4   \n",
              "2791941                                        4.4   \n",
              "\n",
              "         Nonfamily Households $200,000 or More  \\\n",
              "0                                          3.0   \n",
              "1                                          2.3   \n",
              "2                                          2.7   \n",
              "3                                          1.8   \n",
              "4                                          1.6   \n",
              "...                                        ...   \n",
              "2791937                                    1.6   \n",
              "2791938                                    2.1   \n",
              "2791939                                    2.5   \n",
              "2791940                                    2.7   \n",
              "2791941                                    1.3   \n",
              "\n",
              "         Nonfamily Households Median Income (Dollars)  \\\n",
              "0                                             48655.0   \n",
              "1                                             44283.0   \n",
              "2                                             45984.0   \n",
              "3                                             43911.0   \n",
              "4                                             43851.0   \n",
              "...                                               ...   \n",
              "2791937                                       50390.0   \n",
              "2791938                                       49381.0   \n",
              "2791939                                       43301.0   \n",
              "2791940                                       42591.0   \n",
              "2791941                                       42496.0   \n",
              "\n",
              "         Nonfamily Households Mean Income (Dollars)  \\\n",
              "0                                           61845.0   \n",
              "1                                           59071.0   \n",
              "2                                           61366.0   \n",
              "3                                           56980.0   \n",
              "4                                           56124.0   \n",
              "...                                             ...   \n",
              "2791937                                     62195.0   \n",
              "2791938                                     62600.0   \n",
              "2791939                                     59467.0   \n",
              "2791940                                     58962.0   \n",
              "2791941                                     55786.0   \n",
              "\n",
              "         Nonfamily Households Nonfamily Income in the Past 12 Months  Year  \\\n",
              "0                                                     30.3            2021   \n",
              "1                                                     34.5            2020   \n",
              "2                                                     38.1            2019   \n",
              "3                                                     35.7            2018   \n",
              "4                                                     36.5            2017   \n",
              "...                                                    ...             ...   \n",
              "2791937                                               31.9            2015   \n",
              "2791938                                               29.8            2014   \n",
              "2791939                                               28.9            2013   \n",
              "2791940                                               26.9            2012   \n",
              "2791941                                               24.2            2011   \n",
              "\n",
              "         County Name  \n",
              "0             Queens  \n",
              "1             Queens  \n",
              "2             Queens  \n",
              "3             Queens  \n",
              "4             Queens  \n",
              "...              ...  \n",
              "2791937       Queens  \n",
              "2791938       Queens  \n",
              "2791939       Queens  \n",
              "2791940       Queens  \n",
              "2791941       Queens  \n",
              "\n",
              "[2741726 rows x 67 columns]"
            ],
            "text/html": [
              "\n",
              "  <div id=\"df-ffc12e55-828b-43bc-bef2-f73369d6f7af\" class=\"colab-df-container\">\n",
              "    <div>\n",
              "<style scoped>\n",
              "    .dataframe tbody tr th:only-of-type {\n",
              "        vertical-align: middle;\n",
              "    }\n",
              "\n",
              "    .dataframe tbody tr th {\n",
              "        vertical-align: top;\n",
              "    }\n",
              "\n",
              "    .dataframe thead th {\n",
              "        text-align: right;\n",
              "    }\n",
              "</style>\n",
              "<table border=\"1\" class=\"dataframe\">\n",
              "  <thead>\n",
              "    <tr style=\"text-align: right;\">\n",
              "      <th></th>\n",
              "      <th>Created Date</th>\n",
              "      <th>Location Type</th>\n",
              "      <th>ZIP</th>\n",
              "      <th>Community Board</th>\n",
              "      <th>Borough</th>\n",
              "      <th>Latitude</th>\n",
              "      <th>Longitude</th>\n",
              "      <th>Month</th>\n",
              "      <th>Week</th>\n",
              "      <th>Day</th>\n",
              "      <th>...</th>\n",
              "      <th>Nonfamily Households $50,000 to $74,999</th>\n",
              "      <th>Nonfamily Households $75,000 to $99,999</th>\n",
              "      <th>Nonfamily Households $100,000 to $149,999</th>\n",
              "      <th>Nonfamily Households $150,000 to $199,999</th>\n",
              "      <th>Nonfamily Households $200,000 or More</th>\n",
              "      <th>Nonfamily Households Median Income (Dollars)</th>\n",
              "      <th>Nonfamily Households Mean Income (Dollars)</th>\n",
              "      <th>Nonfamily Households Nonfamily Income in the Past 12 Months</th>\n",
              "      <th>Year</th>\n",
              "      <th>County Name</th>\n",
              "    </tr>\n",
              "  </thead>\n",
              "  <tbody>\n",
              "    <tr>\n",
              "      <th>0</th>\n",
              "      <td>2024-05-31 00:10:00</td>\n",
              "      <td>Vacant Lot</td>\n",
              "      <td>11377</td>\n",
              "      <td>02 QUEENS</td>\n",
              "      <td>QUEENS</td>\n",
              "      <td>40.740375</td>\n",
              "      <td>-73.896454</td>\n",
              "      <td>5</td>\n",
              "      <td>22</td>\n",
              "      <td>31</td>\n",
              "      <td>...</td>\n",
              "      <td>18.3</td>\n",
              "      <td>14.0</td>\n",
              "      <td>10.0</td>\n",
              "      <td>3.9</td>\n",
              "      <td>3.0</td>\n",
              "      <td>48655.0</td>\n",
              "      <td>61845.0</td>\n",
              "      <td>30.3</td>\n",
              "      <td>2021</td>\n",
              "      <td>Queens</td>\n",
              "    </tr>\n",
              "    <tr>\n",
              "      <th>1</th>\n",
              "      <td>2024-05-31 00:10:00</td>\n",
              "      <td>Vacant Lot</td>\n",
              "      <td>11377</td>\n",
              "      <td>02 QUEENS</td>\n",
              "      <td>QUEENS</td>\n",
              "      <td>40.740375</td>\n",
              "      <td>-73.896454</td>\n",
              "      <td>5</td>\n",
              "      <td>22</td>\n",
              "      <td>31</td>\n",
              "      <td>...</td>\n",
              "      <td>17.1</td>\n",
              "      <td>10.8</td>\n",
              "      <td>9.7</td>\n",
              "      <td>3.7</td>\n",
              "      <td>2.3</td>\n",
              "      <td>44283.0</td>\n",
              "      <td>59071.0</td>\n",
              "      <td>34.5</td>\n",
              "      <td>2020</td>\n",
              "      <td>Queens</td>\n",
              "    </tr>\n",
              "    <tr>\n",
              "      <th>2</th>\n",
              "      <td>2024-05-31 00:10:00</td>\n",
              "      <td>Vacant Lot</td>\n",
              "      <td>11377</td>\n",
              "      <td>02 QUEENS</td>\n",
              "      <td>QUEENS</td>\n",
              "      <td>40.740375</td>\n",
              "      <td>-73.896454</td>\n",
              "      <td>5</td>\n",
              "      <td>22</td>\n",
              "      <td>31</td>\n",
              "      <td>...</td>\n",
              "      <td>18.6</td>\n",
              "      <td>10.2</td>\n",
              "      <td>10.4</td>\n",
              "      <td>3.8</td>\n",
              "      <td>2.7</td>\n",
              "      <td>45984.0</td>\n",
              "      <td>61366.0</td>\n",
              "      <td>38.1</td>\n",
              "      <td>2019</td>\n",
              "      <td>Queens</td>\n",
              "    </tr>\n",
              "    <tr>\n",
              "      <th>3</th>\n",
              "      <td>2024-05-31 00:10:00</td>\n",
              "      <td>Vacant Lot</td>\n",
              "      <td>11377</td>\n",
              "      <td>02 QUEENS</td>\n",
              "      <td>QUEENS</td>\n",
              "      <td>40.740375</td>\n",
              "      <td>-73.896454</td>\n",
              "      <td>5</td>\n",
              "      <td>22</td>\n",
              "      <td>31</td>\n",
              "      <td>...</td>\n",
              "      <td>20.5</td>\n",
              "      <td>8.9</td>\n",
              "      <td>9.3</td>\n",
              "      <td>3.8</td>\n",
              "      <td>1.8</td>\n",
              "      <td>43911.0</td>\n",
              "      <td>56980.0</td>\n",
              "      <td>35.7</td>\n",
              "      <td>2018</td>\n",
              "      <td>Queens</td>\n",
              "    </tr>\n",
              "    <tr>\n",
              "      <th>4</th>\n",
              "      <td>2024-05-31 00:10:00</td>\n",
              "      <td>Vacant Lot</td>\n",
              "      <td>11377</td>\n",
              "      <td>02 QUEENS</td>\n",
              "      <td>QUEENS</td>\n",
              "      <td>40.740375</td>\n",
              "      <td>-73.896454</td>\n",
              "      <td>5</td>\n",
              "      <td>22</td>\n",
              "      <td>31</td>\n",
              "      <td>...</td>\n",
              "      <td>21.3</td>\n",
              "      <td>9.1</td>\n",
              "      <td>8.6</td>\n",
              "      <td>3.7</td>\n",
              "      <td>1.6</td>\n",
              "      <td>43851.0</td>\n",
              "      <td>56124.0</td>\n",
              "      <td>36.5</td>\n",
              "      <td>2017</td>\n",
              "      <td>Queens</td>\n",
              "    </tr>\n",
              "    <tr>\n",
              "      <th>...</th>\n",
              "      <td>...</td>\n",
              "      <td>...</td>\n",
              "      <td>...</td>\n",
              "      <td>...</td>\n",
              "      <td>...</td>\n",
              "      <td>...</td>\n",
              "      <td>...</td>\n",
              "      <td>...</td>\n",
              "      <td>...</td>\n",
              "      <td>...</td>\n",
              "      <td>...</td>\n",
              "      <td>...</td>\n",
              "      <td>...</td>\n",
              "      <td>...</td>\n",
              "      <td>...</td>\n",
              "      <td>...</td>\n",
              "      <td>...</td>\n",
              "      <td>...</td>\n",
              "      <td>...</td>\n",
              "      <td>...</td>\n",
              "      <td>...</td>\n",
              "    </tr>\n",
              "    <tr>\n",
              "      <th>2791937</th>\n",
              "      <td>2024-05-15 20:11:00</td>\n",
              "      <td>3+ Family</td>\n",
              "      <td>11106</td>\n",
              "      <td>01 QUEENS</td>\n",
              "      <td>QUEENS</td>\n",
              "      <td>40.759002</td>\n",
              "      <td>-73.926703</td>\n",
              "      <td>5</td>\n",
              "      <td>20</td>\n",
              "      <td>15</td>\n",
              "      <td>...</td>\n",
              "      <td>19.2</td>\n",
              "      <td>13.0</td>\n",
              "      <td>13.0</td>\n",
              "      <td>3.5</td>\n",
              "      <td>1.6</td>\n",
              "      <td>50390.0</td>\n",
              "      <td>62195.0</td>\n",
              "      <td>31.9</td>\n",
              "      <td>2015</td>\n",
              "      <td>Queens</td>\n",
              "    </tr>\n",
              "    <tr>\n",
              "      <th>2791938</th>\n",
              "      <td>2024-05-15 20:11:00</td>\n",
              "      <td>3+ Family</td>\n",
              "      <td>11106</td>\n",
              "      <td>01 QUEENS</td>\n",
              "      <td>QUEENS</td>\n",
              "      <td>40.759002</td>\n",
              "      <td>-73.926703</td>\n",
              "      <td>5</td>\n",
              "      <td>20</td>\n",
              "      <td>15</td>\n",
              "      <td>...</td>\n",
              "      <td>18.8</td>\n",
              "      <td>13.6</td>\n",
              "      <td>12.0</td>\n",
              "      <td>3.2</td>\n",
              "      <td>2.1</td>\n",
              "      <td>49381.0</td>\n",
              "      <td>62600.0</td>\n",
              "      <td>29.8</td>\n",
              "      <td>2014</td>\n",
              "      <td>Queens</td>\n",
              "    </tr>\n",
              "    <tr>\n",
              "      <th>2791939</th>\n",
              "      <td>2024-05-15 20:11:00</td>\n",
              "      <td>3+ Family</td>\n",
              "      <td>11106</td>\n",
              "      <td>01 QUEENS</td>\n",
              "      <td>QUEENS</td>\n",
              "      <td>40.759002</td>\n",
              "      <td>-73.926703</td>\n",
              "      <td>5</td>\n",
              "      <td>20</td>\n",
              "      <td>15</td>\n",
              "      <td>...</td>\n",
              "      <td>16.6</td>\n",
              "      <td>11.3</td>\n",
              "      <td>11.2</td>\n",
              "      <td>3.4</td>\n",
              "      <td>2.5</td>\n",
              "      <td>43301.0</td>\n",
              "      <td>59467.0</td>\n",
              "      <td>28.9</td>\n",
              "      <td>2013</td>\n",
              "      <td>Queens</td>\n",
              "    </tr>\n",
              "    <tr>\n",
              "      <th>2791940</th>\n",
              "      <td>2024-05-15 20:11:00</td>\n",
              "      <td>3+ Family</td>\n",
              "      <td>11106</td>\n",
              "      <td>01 QUEENS</td>\n",
              "      <td>QUEENS</td>\n",
              "      <td>40.759002</td>\n",
              "      <td>-73.926703</td>\n",
              "      <td>5</td>\n",
              "      <td>20</td>\n",
              "      <td>15</td>\n",
              "      <td>...</td>\n",
              "      <td>17.2</td>\n",
              "      <td>11.2</td>\n",
              "      <td>11.4</td>\n",
              "      <td>2.4</td>\n",
              "      <td>2.7</td>\n",
              "      <td>42591.0</td>\n",
              "      <td>58962.0</td>\n",
              "      <td>26.9</td>\n",
              "      <td>2012</td>\n",
              "      <td>Queens</td>\n",
              "    </tr>\n",
              "    <tr>\n",
              "      <th>2791941</th>\n",
              "      <td>2024-05-15 20:11:00</td>\n",
              "      <td>3+ Family</td>\n",
              "      <td>11106</td>\n",
              "      <td>01 QUEENS</td>\n",
              "      <td>QUEENS</td>\n",
              "      <td>40.759002</td>\n",
              "      <td>-73.926703</td>\n",
              "      <td>5</td>\n",
              "      <td>20</td>\n",
              "      <td>15</td>\n",
              "      <td>...</td>\n",
              "      <td>19.1</td>\n",
              "      <td>9.4</td>\n",
              "      <td>10.5</td>\n",
              "      <td>4.4</td>\n",
              "      <td>1.3</td>\n",
              "      <td>42496.0</td>\n",
              "      <td>55786.0</td>\n",
              "      <td>24.2</td>\n",
              "      <td>2011</td>\n",
              "      <td>Queens</td>\n",
              "    </tr>\n",
              "  </tbody>\n",
              "</table>\n",
              "<p>2741726 rows × 67 columns</p>\n",
              "</div>\n",
              "    <div class=\"colab-df-buttons\">\n",
              "\n",
              "  <div class=\"colab-df-container\">\n",
              "    <button class=\"colab-df-convert\" onclick=\"convertToInteractive('df-ffc12e55-828b-43bc-bef2-f73369d6f7af')\"\n",
              "            title=\"Convert this dataframe to an interactive table.\"\n",
              "            style=\"display:none;\">\n",
              "\n",
              "  <svg xmlns=\"http://www.w3.org/2000/svg\" height=\"24px\" viewBox=\"0 -960 960 960\">\n",
              "    <path d=\"M120-120v-720h720v720H120Zm60-500h600v-160H180v160Zm220 220h160v-160H400v160Zm0 220h160v-160H400v160ZM180-400h160v-160H180v160Zm440 0h160v-160H620v160ZM180-180h160v-160H180v160Zm440 0h160v-160H620v160Z\"/>\n",
              "  </svg>\n",
              "    </button>\n",
              "\n",
              "  <style>\n",
              "    .colab-df-container {\n",
              "      display:flex;\n",
              "      gap: 12px;\n",
              "    }\n",
              "\n",
              "    .colab-df-convert {\n",
              "      background-color: #E8F0FE;\n",
              "      border: none;\n",
              "      border-radius: 50%;\n",
              "      cursor: pointer;\n",
              "      display: none;\n",
              "      fill: #1967D2;\n",
              "      height: 32px;\n",
              "      padding: 0 0 0 0;\n",
              "      width: 32px;\n",
              "    }\n",
              "\n",
              "    .colab-df-convert:hover {\n",
              "      background-color: #E2EBFA;\n",
              "      box-shadow: 0px 1px 2px rgba(60, 64, 67, 0.3), 0px 1px 3px 1px rgba(60, 64, 67, 0.15);\n",
              "      fill: #174EA6;\n",
              "    }\n",
              "\n",
              "    .colab-df-buttons div {\n",
              "      margin-bottom: 4px;\n",
              "    }\n",
              "\n",
              "    [theme=dark] .colab-df-convert {\n",
              "      background-color: #3B4455;\n",
              "      fill: #D2E3FC;\n",
              "    }\n",
              "\n",
              "    [theme=dark] .colab-df-convert:hover {\n",
              "      background-color: #434B5C;\n",
              "      box-shadow: 0px 1px 3px 1px rgba(0, 0, 0, 0.15);\n",
              "      filter: drop-shadow(0px 1px 2px rgba(0, 0, 0, 0.3));\n",
              "      fill: #FFFFFF;\n",
              "    }\n",
              "  </style>\n",
              "\n",
              "    <script>\n",
              "      const buttonEl =\n",
              "        document.querySelector('#df-ffc12e55-828b-43bc-bef2-f73369d6f7af button.colab-df-convert');\n",
              "      buttonEl.style.display =\n",
              "        google.colab.kernel.accessAllowed ? 'block' : 'none';\n",
              "\n",
              "      async function convertToInteractive(key) {\n",
              "        const element = document.querySelector('#df-ffc12e55-828b-43bc-bef2-f73369d6f7af');\n",
              "        const dataTable =\n",
              "          await google.colab.kernel.invokeFunction('convertToInteractive',\n",
              "                                                    [key], {});\n",
              "        if (!dataTable) return;\n",
              "\n",
              "        const docLinkHtml = 'Like what you see? Visit the ' +\n",
              "          '<a target=\"_blank\" href=https://colab.research.google.com/notebooks/data_table.ipynb>data table notebook</a>'\n",
              "          + ' to learn more about interactive tables.';\n",
              "        element.innerHTML = '';\n",
              "        dataTable['output_type'] = 'display_data';\n",
              "        await google.colab.output.renderOutput(dataTable, element);\n",
              "        const docLink = document.createElement('div');\n",
              "        docLink.innerHTML = docLinkHtml;\n",
              "        element.appendChild(docLink);\n",
              "      }\n",
              "    </script>\n",
              "  </div>\n",
              "\n",
              "\n",
              "<div id=\"df-2a78178f-100a-42e1-a1bd-af707e264dbc\">\n",
              "  <button class=\"colab-df-quickchart\" onclick=\"quickchart('df-2a78178f-100a-42e1-a1bd-af707e264dbc')\"\n",
              "            title=\"Suggest charts\"\n",
              "            style=\"display:none;\">\n",
              "\n",
              "<svg xmlns=\"http://www.w3.org/2000/svg\" height=\"24px\"viewBox=\"0 0 24 24\"\n",
              "     width=\"24px\">\n",
              "    <g>\n",
              "        <path d=\"M19 3H5c-1.1 0-2 .9-2 2v14c0 1.1.9 2 2 2h14c1.1 0 2-.9 2-2V5c0-1.1-.9-2-2-2zM9 17H7v-7h2v7zm4 0h-2V7h2v10zm4 0h-2v-4h2v4z\"/>\n",
              "    </g>\n",
              "</svg>\n",
              "  </button>\n",
              "\n",
              "<style>\n",
              "  .colab-df-quickchart {\n",
              "      --bg-color: #E8F0FE;\n",
              "      --fill-color: #1967D2;\n",
              "      --hover-bg-color: #E2EBFA;\n",
              "      --hover-fill-color: #174EA6;\n",
              "      --disabled-fill-color: #AAA;\n",
              "      --disabled-bg-color: #DDD;\n",
              "  }\n",
              "\n",
              "  [theme=dark] .colab-df-quickchart {\n",
              "      --bg-color: #3B4455;\n",
              "      --fill-color: #D2E3FC;\n",
              "      --hover-bg-color: #434B5C;\n",
              "      --hover-fill-color: #FFFFFF;\n",
              "      --disabled-bg-color: #3B4455;\n",
              "      --disabled-fill-color: #666;\n",
              "  }\n",
              "\n",
              "  .colab-df-quickchart {\n",
              "    background-color: var(--bg-color);\n",
              "    border: none;\n",
              "    border-radius: 50%;\n",
              "    cursor: pointer;\n",
              "    display: none;\n",
              "    fill: var(--fill-color);\n",
              "    height: 32px;\n",
              "    padding: 0;\n",
              "    width: 32px;\n",
              "  }\n",
              "\n",
              "  .colab-df-quickchart:hover {\n",
              "    background-color: var(--hover-bg-color);\n",
              "    box-shadow: 0 1px 2px rgba(60, 64, 67, 0.3), 0 1px 3px 1px rgba(60, 64, 67, 0.15);\n",
              "    fill: var(--button-hover-fill-color);\n",
              "  }\n",
              "\n",
              "  .colab-df-quickchart-complete:disabled,\n",
              "  .colab-df-quickchart-complete:disabled:hover {\n",
              "    background-color: var(--disabled-bg-color);\n",
              "    fill: var(--disabled-fill-color);\n",
              "    box-shadow: none;\n",
              "  }\n",
              "\n",
              "  .colab-df-spinner {\n",
              "    border: 2px solid var(--fill-color);\n",
              "    border-color: transparent;\n",
              "    border-bottom-color: var(--fill-color);\n",
              "    animation:\n",
              "      spin 1s steps(1) infinite;\n",
              "  }\n",
              "\n",
              "  @keyframes spin {\n",
              "    0% {\n",
              "      border-color: transparent;\n",
              "      border-bottom-color: var(--fill-color);\n",
              "      border-left-color: var(--fill-color);\n",
              "    }\n",
              "    20% {\n",
              "      border-color: transparent;\n",
              "      border-left-color: var(--fill-color);\n",
              "      border-top-color: var(--fill-color);\n",
              "    }\n",
              "    30% {\n",
              "      border-color: transparent;\n",
              "      border-left-color: var(--fill-color);\n",
              "      border-top-color: var(--fill-color);\n",
              "      border-right-color: var(--fill-color);\n",
              "    }\n",
              "    40% {\n",
              "      border-color: transparent;\n",
              "      border-right-color: var(--fill-color);\n",
              "      border-top-color: var(--fill-color);\n",
              "    }\n",
              "    60% {\n",
              "      border-color: transparent;\n",
              "      border-right-color: var(--fill-color);\n",
              "    }\n",
              "    80% {\n",
              "      border-color: transparent;\n",
              "      border-right-color: var(--fill-color);\n",
              "      border-bottom-color: var(--fill-color);\n",
              "    }\n",
              "    90% {\n",
              "      border-color: transparent;\n",
              "      border-bottom-color: var(--fill-color);\n",
              "    }\n",
              "  }\n",
              "</style>\n",
              "\n",
              "  <script>\n",
              "    async function quickchart(key) {\n",
              "      const quickchartButtonEl =\n",
              "        document.querySelector('#' + key + ' button');\n",
              "      quickchartButtonEl.disabled = true;  // To prevent multiple clicks.\n",
              "      quickchartButtonEl.classList.add('colab-df-spinner');\n",
              "      try {\n",
              "        const charts = await google.colab.kernel.invokeFunction(\n",
              "            'suggestCharts', [key], {});\n",
              "      } catch (error) {\n",
              "        console.error('Error during call to suggestCharts:', error);\n",
              "      }\n",
              "      quickchartButtonEl.classList.remove('colab-df-spinner');\n",
              "      quickchartButtonEl.classList.add('colab-df-quickchart-complete');\n",
              "    }\n",
              "    (() => {\n",
              "      let quickchartButtonEl =\n",
              "        document.querySelector('#df-2a78178f-100a-42e1-a1bd-af707e264dbc button');\n",
              "      quickchartButtonEl.style.display =\n",
              "        google.colab.kernel.accessAllowed ? 'block' : 'none';\n",
              "    })();\n",
              "  </script>\n",
              "</div>\n",
              "\n",
              "    </div>\n",
              "  </div>\n"
            ],
            "application/vnd.google.colaboratory.intrinsic+json": {
              "type": "dataframe"
            }
          },
          "metadata": {},
          "execution_count": 74
        }
      ]
    },
    {
      "cell_type": "markdown",
      "source": [
        "We are looking at residential living (families and married-couple families is considered residential in our dataset) that have a median income over 100k dollars per Borough. According to SmartAsset, \"an individual needs $96,500 for sustainable comfort in a major U.S. City\" (https://smartasset.com/data-studies/salary-needed-live-comfortably-2024). Considering this, we decided to choose 100k as an important median income value to look at.\n",
        "\n",
        "H0: The Borough a family lives in does not affect have an effect on the number of families with a median income over 100k.\n",
        "HA: The Borough a family lives in does not affect have an effect on the number of families with a median income over 100k.\n",
        "\n",
        "We are choosing to have an alpha value of 0.05."
      ],
      "metadata": {
        "id": "IFZLuIkGTjs1"
      }
    },
    {
      "cell_type": "code",
      "source": [
        "#creating a col so that we sort over 100k and under 100k salaries\n",
        "rat_income[\"Over 100k\"] = (rat_income[\"Families Median Income (Dollars)\"] >= 100000) | (rat_income[\"Married-Couple Families Median Income (Dollars)\"] >= 100000)\n",
        "\n",
        "#Chi-Squared test\n",
        "contingency = pd.crosstab(rat_income[\"Borough\"], rat_income[\"Over 100k\"])\n",
        "contingency.plot(kind='bar', stacked=False)\n",
        "\n",
        "#Plot\n",
        "plt.xlabel(\"Borough\")\n",
        "plt.ylabel(\"Number of Families\")\n",
        "plt.title(\"Family Median Incomes per Borough\")\n",
        "plt.show()"
      ],
      "metadata": {
        "id": "_RzEaBN_Tk3b",
        "colab": {
          "base_uri": "https://localhost:8080/",
          "height": 566
        },
        "outputId": "3de48de5-f572-4c6b-eb4b-7e51fa91f8ff"
      },
      "execution_count": 75,
      "outputs": [
        {
          "output_type": "display_data",
          "data": {
            "text/plain": [
              "<Figure size 640x480 with 1 Axes>"
            ],
            "image/png": "[encoded data removed]"
          },
          "metadata": {}
        }
      ]
    },
    {
      "cell_type": "markdown",
      "source": [
        "After conducting the chi-squared test, we have a p-value of 0.0. Since this value is less than our alpha value of 0.05, we choose to reject the null hypothesis. We can use this information to determine that certain Boroughs tend to be wealthier than others. In the future, we can plan to look into whether or not wealthier boroughs have a negative correlation with rat sightings."
      ],
      "metadata": {
        "id": "OWYDlZXSTovn"
      }
    },
    {
      "cell_type": "code",
      "source": [
        "chi2_table = stats.chi2_contingency(contingency, correction=False)\n",
        "chi2_table"
      ],
      "metadata": {
        "id": "5LtmWC55Tpne",
        "colab": {
          "base_uri": "https://localhost:8080/"
        },
        "outputId": "94a970cf-2095-44cc-db6b-0cb1d3379784"
      },
      "execution_count": 76,
      "outputs": [
        {
          "output_type": "execute_result",
          "data": {
            "text/plain": [
              "Chi2ContingencyResult(statistic=573459.4633396, pvalue=0.0, dof=4, expected_freq=array([[351752.13836749, 166545.86163251],\n",
              "       [695776.28704644, 329432.71295356],\n",
              "       [486352.99222871, 230276.00777129],\n",
              "       [287923.43632067, 136324.56367933],\n",
              "       [ 72996.1460367 ,  34561.8539633 ]]))"
            ]
          },
          "metadata": {},
          "execution_count": 76
        }
      ]
    },
    {
      "cell_type": "markdown",
      "source": [
        "# Part 7 (Appendix): Number of Rat Sightings vs. Population Density By Zip Code"
      ],
      "metadata": {
        "id": "oczi0Wyv9t3o"
      }
    },
    {
      "cell_type": "markdown",
      "source": [
        "We also have a dataset of the population densities in New York City by zip code for 2024. We merge this data with the rat sightings data from 2024 to detect any linear correlation between the population density and the number of rat sightings reported.\n"
      ],
      "metadata": {
        "id": "GATagQ9SPouZ"
      }
    },
    {
      "cell_type": "code",
      "source": [
        "import numpy as np\n",
        "\n",
        "# Get population density dataset\n",
        "pop_density_df = pd.read_csv(\"uszips.csv\")\n",
        "pop_density_df = pop_density_df[['zip', 'density']]\n",
        "\n",
        "# Filter on 2024 data\n",
        "merged_df = pd.merge(pop_density_df, df[df['Created Date'].dt.year == 2024], left_on='zip', right_on='ZIP', how='inner')\n",
        "\n",
        "# Get number of sightings per zip code, keeping numerical order of zip\n",
        "groups = merged_df.groupby('zip', as_index=False)\n",
        "num_sightings = groups.size().sort_values('zip', ascending=True)\n",
        "\n",
        "# Get unique list of zip codes in numerical order\n",
        "merged_df.sort_values('zip', ascending=True, inplace=True)\n",
        "zips = merged_df['zip'].unique()\n",
        "\n",
        "# Get corresponding densities of the ordered zips\n",
        "merged_df = merged_df.drop_duplicates(subset='zip', keep=\"first\").sort_values('zip', ascending=True)\n",
        "\n",
        "x = merged_df['density']\n",
        "y = num_sightings['size']\n",
        "# print(len(x)) # number of data points in our scatterplot\n",
        "\n",
        "# Pearson correlation coefficient\n",
        "print(\"Correlation Coefficient: \" + str(np.corrcoef(x, y)[0, 1]))"
      ],
      "metadata": {
        "colab": {
          "base_uri": "https://localhost:8080/"
        },
        "id": "MDX4P4kq_4wg",
        "outputId": "bf4cde3d-b941-4f57-e412-7030827e931e"
      },
      "execution_count": 77,
      "outputs": [
        {
          "output_type": "stream",
          "name": "stdout",
          "text": [
            "Correlation Coefficient: 0.2910724813487177\n"
          ]
        }
      ]
    },
    {
      "cell_type": "markdown",
      "source": [
        "The two datasets are merged on the zip code, and we find the number of sightings and the population density of each zip code, totaling 180 data points.\n",
        "\n",
        "We find the Pearson correlation coefficient to be 0.291, indicating a weak positive linear correlation between population density and number of rat sightings. We can conclude that the number of rat sightings does not consistently linearly increase as the population density increases."
      ],
      "metadata": {
        "id": "LSRo56sS__Wc"
      }
    },
    {
      "cell_type": "code",
      "source": [
        "# Plot number of sightings vs. population density of zip\n",
        "a, b = np.polyfit(x, y, 1)\n",
        "\n",
        "plt.scatter(x, y, color='#faaba2')\n",
        "plt.plot(x, a*x+b, color='#6eb9ff') # line of best fit\n",
        "plt.xlabel(\"Density (Population Per Square Kilometer)\")\n",
        "plt.ylabel(\"Number of Rat Sightings\")\n",
        "plt.title(\"Number of Rat Sightings vs. Population Density By Zip Code\")\n",
        "plt.show()"
      ],
      "metadata": {
        "colab": {
          "base_uri": "https://localhost:8080/",
          "height": 472
        },
        "id": "yfR-kz84AAJJ",
        "outputId": "20fcbe2c-2b6b-4edf-e165-3daa6f488895"
      },
      "execution_count": 78,
      "outputs": [
        {
          "output_type": "display_data",
          "data": {
            "text/plain": [
              "<Figure size 640x480 with 1 Axes>"
            ],
            "image/png": "[encoded data removed]"
          },
          "metadata": {}
        }
      ]
    },
    {
      "cell_type": "markdown",
      "source": [
        "This is a scatterplot with the population density on the x-axis and the number of rat sightings on the y-axis. We observe visually that the distribution has more of a bell-curve shape, which may be explained by the Central Limit Theorem acting upon other factors to produce a normal distribution.\n",
        "\n",
        "In the future, we may attempt binning the data on a categorical variable, such as income ranges, to look for differing correlation coefficients."
      ],
      "metadata": {
        "id": "aHW-dOejABES"
      }
    },
    {
      "cell_type": "markdown",
      "source": [
        "# Part 8: Conclusion\n",
        "\n",
        "Our analysis explored rat sightings across New York City across the years 2011-2021, investigating the impact of geographic location, income levels, and population density. The goal of this analysis was to identify significant patterns in rat sightings that could better inform public health strategies and urban planning.\n",
        "\n",
        "We began our analysis by examining the geographic distribution of rat sightings across the city’s boroughs. An ANOVA test revealed significant differences in the number of sightings between boroughs. Manhattan and Staten Island experienced notably higher rat sightings, while Brooklyn had significantly fewer. However, some boroughs, like the Bronx and Brooklyn, did not show statistically significant differences in rat sighting counts. These findings suggest that geography plays a role in rat infestations, but other factors, such as population density and socioeconomic conditions, may also be contributing to these patterns.\n",
        "\n",
        "In addition to the geographic analysis, we compared rat sightings in residential and non-residential areas using the Mann-Whitney U test. The results indicated a significant difference, with residential areas reporting more rat sightings than non-residential ones. This points to a potential public health concern, as rats in residential areas may pose more direct risks to human health. These findings emphasize the importance of focusing on residential infestations when implementing pest control measures and public health interventions.\n",
        "\n",
        "Further analysis was conducted by merging rat sighting data with U.S. Census income data to investigate the relationship between income and rat infestations. A chi-squared test showed that wealthier boroughs tend to have more families with median incomes above $100,000, highlighting the economic disparities across the city. Although this test did not directly link income to rat sightings, it provides a basis for future research into whether wealthier areas experience fewer rat infestations due to better infrastructure and services. The relationship between income levels and the frequency of rat sightings warrants further exploration.\n",
        "\n",
        "Finally, we examined the correlation between population density and rat sightings. The Pearson correlation coefficient indicated a weak positive relationship between the two variables, suggesting that while rat sightings tend to increase with population density, the correlation is not strong. This analysis also revealed a bell-curve pattern, implying that other factors, such as urban infrastructure and waste management, may be more influential than population density alone in determining the prevalence of rats.\n",
        "\n",
        "In summary, our research highlights the multifaceted nature of rat infestations in New York City. As geographic location, residential versus non-residential areas, and socioeconomic factors all contribute to the distribution of rat sightings, we made sure to find accurate and reliable datasets and manipulated them to better analyze the impact of rat infestations on public hygiene and general human health. While population density shows a weak correlation with sightings, other underlying factors likely play a role in the occurrence of rats. In the future, we plan to include population density or physical square footage when comparing boroughs to gain more accurate insights. Additionally, we will analyze income ranges and examine the correlation coefficients across various categories to identify key patterns. We'll also investigate how income levels correspond with reported sightings. Finally, we will merge all of our datasets to conduct a comprehensive analysis and uncover deeper relationships between these variables."
      ],
      "metadata": {
        "id": "Lql-cJXLas9S"
      }
    }
  ]
}