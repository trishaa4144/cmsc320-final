{
  "nbformat": 4,
  "nbformat_minor": 0,
  "metadata": {
    "colab": {
      "provenance": [],
      "authorship_tag": "ABX9TyPFO4Cpi9hExuqzfYUd0b4t",
      "include_colab_link": true
    },
    "kernelspec": {
      "name": "python3",
      "display_name": "Python 3"
    },
    "language_info": {
      "name": "python"
    }
  },
  "cells": [
    {
      "cell_type": "markdown",
      "metadata": {
        "id": "view-in-github",
        "colab_type": "text"
      },
      "source": [
        "<a href=\"https://colab.research.google.com/github/trishaa4144/cmsc320-final/blob/rat_clean/CMSC320_Checkpt_2.ipynb\" target=\"_parent\"><img src=\"https://colab.research.google.com/assets/colab-badge.svg\" alt=\"Open In Colab\"/></a>"
      ]
    },
    {
      "cell_type": "markdown",
      "source": [
        "# Part 1: Initial Data Cleaning\n",
        "\n",
        "We will start by cleaning our dataset to remove null values, and narrows our dataset down to certain columns.\n",
        "\n",
        "First, we import our dataset."
      ],
      "metadata": {
        "id": "nFivFRxYFKys"
      }
    },
    {
      "cell_type": "code",
      "execution_count": 5,
      "metadata": {
        "id": "lWmFkTrVwUAG"
      },
      "outputs": [],
      "source": [
        "import pandas as pd\n",
        "import matplotlib.pyplot as plt\n",
        "from scipy import stats\n",
        "\n",
        "df = pd.read_csv(\"Rat_Sightings_20240917.csv\", low_memory=False)"
      ]
    },
    {
      "cell_type": "markdown",
      "source": [
        "We filter out unnecessary/sparse columns like \"Taxi Pick Up Location\", \"Bridge Highway Name\", etc. This way, we cut the number of columns from 38 to 7 columns.\n",
        "\n",
        "We are deciding to look at the following important columns: Created Date, Location Type, Incident Zip, Community Board, Borough, Latitude, Longitude.\n"
      ],
      "metadata": {
        "id": "7AWKse5sF9IU"
      }
    },
    {
      "cell_type": "code",
      "source": [
        "# Keep only the necessary columns\n",
        "df = df[['Created Date', 'Location Type', 'Incident Zip', 'Community Board', 'Borough', 'Latitude', 'Longitude']]"
      ],
      "metadata": {
        "id": "cZPM_F6hDOAI"
      },
      "execution_count": 6,
      "outputs": []
    },
    {
      "cell_type": "markdown",
      "source": [
        "Next, we remove Boroughs that are \"Unspecified\" from the dataframe."
      ],
      "metadata": {
        "id": "6eLDgVfVXMD6"
      }
    },
    {
      "cell_type": "code",
      "source": [
        "# Drop rows with unspecified boroughs\n",
        "df = df[df['Borough'] != 'Unspecified']\n",
        "df.reset_index(drop=True, inplace=True)\n",
        "\n",
        "# Check the result\n",
        "df.head()"
      ],
      "metadata": {
        "colab": {
          "base_uri": "https://localhost:8080/",
          "height": 206
        },
        "id": "dLqNIbd2ZpWg",
        "outputId": "e9b6eb02-c429-4f2a-f3a1-b3084d7f2ae2"
      },
      "execution_count": 7,
      "outputs": [
        {
          "output_type": "execute_result",
          "data": {
            "text/plain": [
              "      Created Date            Location Type  Incident Zip Community Board  \\\n",
              "0   5/31/2024 0:10               Vacant Lot       11377.0       02 QUEENS   \n",
              "1   6/1/2024 15:01      1-2 Family Dwelling       11357.0       07 QUEENS   \n",
              "2   6/6/2024 10:08  3+ Family Apt. Building       11385.0       05 QUEENS   \n",
              "3  6/25/2024 11:34  3+ Family Apt. Building       10467.0        07 BRONX   \n",
              "4  6/27/2024 10:48      1-2 Family Dwelling       11220.0     07 BROOKLYN   \n",
              "\n",
              "    Borough   Latitude  Longitude  \n",
              "0    QUEENS  40.740375 -73.896454  \n",
              "1    QUEENS  40.781667 -73.807381  \n",
              "2    QUEENS  40.705669 -73.908352  \n",
              "3     BRONX  40.884066 -73.879225  \n",
              "4  BROOKLYN  40.642061 -74.015862  "
            ],
            "text/html": [
              "\n",
              "  <div id=\"df-4f272aca-e9c4-489d-b3dc-a628dc964747\" class=\"colab-df-container\">\n",
              "    <div>\n",
              "<style scoped>\n",
              "    .dataframe tbody tr th:only-of-type {\n",
              "        vertical-align: middle;\n",
              "    }\n",
              "\n",
              "    .dataframe tbody tr th {\n",
              "        vertical-align: top;\n",
              "    }\n",
              "\n",
              "    .dataframe thead th {\n",
              "        text-align: right;\n",
              "    }\n",
              "</style>\n",
              "<table border=\"1\" class=\"dataframe\">\n",
              "  <thead>\n",
              "    <tr style=\"text-align: right;\">\n",
              "      <th></th>\n",
              "      <th>Created Date</th>\n",
              "      <th>Location Type</th>\n",
              "      <th>Incident Zip</th>\n",
              "      <th>Community Board</th>\n",
              "      <th>Borough</th>\n",
              "      <th>Latitude</th>\n",
              "      <th>Longitude</th>\n",
              "    </tr>\n",
              "  </thead>\n",
              "  <tbody>\n",
              "    <tr>\n",
              "      <th>0</th>\n",
              "      <td>5/31/2024 0:10</td>\n",
              "      <td>Vacant Lot</td>\n",
              "      <td>11377.0</td>\n",
              "      <td>02 QUEENS</td>\n",
              "      <td>QUEENS</td>\n",
              "      <td>40.740375</td>\n",
              "      <td>-73.896454</td>\n",
              "    </tr>\n",
              "    <tr>\n",
              "      <th>1</th>\n",
              "      <td>6/1/2024 15:01</td>\n",
              "      <td>1-2 Family Dwelling</td>\n",
              "      <td>11357.0</td>\n",
              "      <td>07 QUEENS</td>\n",
              "      <td>QUEENS</td>\n",
              "      <td>40.781667</td>\n",
              "      <td>-73.807381</td>\n",
              "    </tr>\n",
              "    <tr>\n",
              "      <th>2</th>\n",
              "      <td>6/6/2024 10:08</td>\n",
              "      <td>3+ Family Apt. Building</td>\n",
              "      <td>11385.0</td>\n",
              "      <td>05 QUEENS</td>\n",
              "      <td>QUEENS</td>\n",
              "      <td>40.705669</td>\n",
              "      <td>-73.908352</td>\n",
              "    </tr>\n",
              "    <tr>\n",
              "      <th>3</th>\n",
              "      <td>6/25/2024 11:34</td>\n",
              "      <td>3+ Family Apt. Building</td>\n",
              "      <td>10467.0</td>\n",
              "      <td>07 BRONX</td>\n",
              "      <td>BRONX</td>\n",
              "      <td>40.884066</td>\n",
              "      <td>-73.879225</td>\n",
              "    </tr>\n",
              "    <tr>\n",
              "      <th>4</th>\n",
              "      <td>6/27/2024 10:48</td>\n",
              "      <td>1-2 Family Dwelling</td>\n",
              "      <td>11220.0</td>\n",
              "      <td>07 BROOKLYN</td>\n",
              "      <td>BROOKLYN</td>\n",
              "      <td>40.642061</td>\n",
              "      <td>-74.015862</td>\n",
              "    </tr>\n",
              "  </tbody>\n",
              "</table>\n",
              "</div>\n",
              "    <div class=\"colab-df-buttons\">\n",
              "\n",
              "  <div class=\"colab-df-container\">\n",
              "    <button class=\"colab-df-convert\" onclick=\"convertToInteractive('df-4f272aca-e9c4-489d-b3dc-a628dc964747')\"\n",
              "            title=\"Convert this dataframe to an interactive table.\"\n",
              "            style=\"display:none;\">\n",
              "\n",
              "  <svg xmlns=\"http://www.w3.org/2000/svg\" height=\"24px\" viewBox=\"0 -960 960 960\">\n",
              "    <path d=\"M120-120v-720h720v720H120Zm60-500h600v-160H180v160Zm220 220h160v-160H400v160Zm0 220h160v-160H400v160ZM180-400h160v-160H180v160Zm440 0h160v-160H620v160ZM180-180h160v-160H180v160Zm440 0h160v-160H620v160Z\"/>\n",
              "  </svg>\n",
              "    </button>\n",
              "\n",
              "  <style>\n",
              "    .colab-df-container {\n",
              "      display:flex;\n",
              "      gap: 12px;\n",
              "    }\n",
              "\n",
              "    .colab-df-convert {\n",
              "      background-color: #E8F0FE;\n",
              "      border: none;\n",
              "      border-radius: 50%;\n",
              "      cursor: pointer;\n",
              "      display: none;\n",
              "      fill: #1967D2;\n",
              "      height: 32px;\n",
              "      padding: 0 0 0 0;\n",
              "      width: 32px;\n",
              "    }\n",
              "\n",
              "    .colab-df-convert:hover {\n",
              "      background-color: #E2EBFA;\n",
              "      box-shadow: 0px 1px 2px rgba(60, 64, 67, 0.3), 0px 1px 3px 1px rgba(60, 64, 67, 0.15);\n",
              "      fill: #174EA6;\n",
              "    }\n",
              "\n",
              "    .colab-df-buttons div {\n",
              "      margin-bottom: 4px;\n",
              "    }\n",
              "\n",
              "    [theme=dark] .colab-df-convert {\n",
              "      background-color: #3B4455;\n",
              "      fill: #D2E3FC;\n",
              "    }\n",
              "\n",
              "    [theme=dark] .colab-df-convert:hover {\n",
              "      background-color: #434B5C;\n",
              "      box-shadow: 0px 1px 3px 1px rgba(0, 0, 0, 0.15);\n",
              "      filter: drop-shadow(0px 1px 2px rgba(0, 0, 0, 0.3));\n",
              "      fill: #FFFFFF;\n",
              "    }\n",
              "  </style>\n",
              "\n",
              "    <script>\n",
              "      const buttonEl =\n",
              "        document.querySelector('#df-4f272aca-e9c4-489d-b3dc-a628dc964747 button.colab-df-convert');\n",
              "      buttonEl.style.display =\n",
              "        google.colab.kernel.accessAllowed ? 'block' : 'none';\n",
              "\n",
              "      async function convertToInteractive(key) {\n",
              "        const element = document.querySelector('#df-4f272aca-e9c4-489d-b3dc-a628dc964747');\n",
              "        const dataTable =\n",
              "          await google.colab.kernel.invokeFunction('convertToInteractive',\n",
              "                                                    [key], {});\n",
              "        if (!dataTable) return;\n",
              "\n",
              "        const docLinkHtml = 'Like what you see? Visit the ' +\n",
              "          '<a target=\"_blank\" href=https://colab.research.google.com/notebooks/data_table.ipynb>data table notebook</a>'\n",
              "          + ' to learn more about interactive tables.';\n",
              "        element.innerHTML = '';\n",
              "        dataTable['output_type'] = 'display_data';\n",
              "        await google.colab.output.renderOutput(dataTable, element);\n",
              "        const docLink = document.createElement('div');\n",
              "        docLink.innerHTML = docLinkHtml;\n",
              "        element.appendChild(docLink);\n",
              "      }\n",
              "    </script>\n",
              "  </div>\n",
              "\n",
              "\n",
              "<div id=\"df-8fb19da7-bc99-44fc-872a-cacfddd33016\">\n",
              "  <button class=\"colab-df-quickchart\" onclick=\"quickchart('df-8fb19da7-bc99-44fc-872a-cacfddd33016')\"\n",
              "            title=\"Suggest charts\"\n",
              "            style=\"display:none;\">\n",
              "\n",
              "<svg xmlns=\"http://www.w3.org/2000/svg\" height=\"24px\"viewBox=\"0 0 24 24\"\n",
              "     width=\"24px\">\n",
              "    <g>\n",
              "        <path d=\"M19 3H5c-1.1 0-2 .9-2 2v14c0 1.1.9 2 2 2h14c1.1 0 2-.9 2-2V5c0-1.1-.9-2-2-2zM9 17H7v-7h2v7zm4 0h-2V7h2v10zm4 0h-2v-4h2v4z\"/>\n",
              "    </g>\n",
              "</svg>\n",
              "  </button>\n",
              "\n",
              "<style>\n",
              "  .colab-df-quickchart {\n",
              "      --bg-color: #E8F0FE;\n",
              "      --fill-color: #1967D2;\n",
              "      --hover-bg-color: #E2EBFA;\n",
              "      --hover-fill-color: #174EA6;\n",
              "      --disabled-fill-color: #AAA;\n",
              "      --disabled-bg-color: #DDD;\n",
              "  }\n",
              "\n",
              "  [theme=dark] .colab-df-quickchart {\n",
              "      --bg-color: #3B4455;\n",
              "      --fill-color: #D2E3FC;\n",
              "      --hover-bg-color: #434B5C;\n",
              "      --hover-fill-color: #FFFFFF;\n",
              "      --disabled-bg-color: #3B4455;\n",
              "      --disabled-fill-color: #666;\n",
              "  }\n",
              "\n",
              "  .colab-df-quickchart {\n",
              "    background-color: var(--bg-color);\n",
              "    border: none;\n",
              "    border-radius: 50%;\n",
              "    cursor: pointer;\n",
              "    display: none;\n",
              "    fill: var(--fill-color);\n",
              "    height: 32px;\n",
              "    padding: 0;\n",
              "    width: 32px;\n",
              "  }\n",
              "\n",
              "  .colab-df-quickchart:hover {\n",
              "    background-color: var(--hover-bg-color);\n",
              "    box-shadow: 0 1px 2px rgba(60, 64, 67, 0.3), 0 1px 3px 1px rgba(60, 64, 67, 0.15);\n",
              "    fill: var(--button-hover-fill-color);\n",
              "  }\n",
              "\n",
              "  .colab-df-quickchart-complete:disabled,\n",
              "  .colab-df-quickchart-complete:disabled:hover {\n",
              "    background-color: var(--disabled-bg-color);\n",
              "    fill: var(--disabled-fill-color);\n",
              "    box-shadow: none;\n",
              "  }\n",
              "\n",
              "  .colab-df-spinner {\n",
              "    border: 2px solid var(--fill-color);\n",
              "    border-color: transparent;\n",
              "    border-bottom-color: var(--fill-color);\n",
              "    animation:\n",
              "      spin 1s steps(1) infinite;\n",
              "  }\n",
              "\n",
              "  @keyframes spin {\n",
              "    0% {\n",
              "      border-color: transparent;\n",
              "      border-bottom-color: var(--fill-color);\n",
              "      border-left-color: var(--fill-color);\n",
              "    }\n",
              "    20% {\n",
              "      border-color: transparent;\n",
              "      border-left-color: var(--fill-color);\n",
              "      border-top-color: var(--fill-color);\n",
              "    }\n",
              "    30% {\n",
              "      border-color: transparent;\n",
              "      border-left-color: var(--fill-color);\n",
              "      border-top-color: var(--fill-color);\n",
              "      border-right-color: var(--fill-color);\n",
              "    }\n",
              "    40% {\n",
              "      border-color: transparent;\n",
              "      border-right-color: var(--fill-color);\n",
              "      border-top-color: var(--fill-color);\n",
              "    }\n",
              "    60% {\n",
              "      border-color: transparent;\n",
              "      border-right-color: var(--fill-color);\n",
              "    }\n",
              "    80% {\n",
              "      border-color: transparent;\n",
              "      border-right-color: var(--fill-color);\n",
              "      border-bottom-color: var(--fill-color);\n",
              "    }\n",
              "    90% {\n",
              "      border-color: transparent;\n",
              "      border-bottom-color: var(--fill-color);\n",
              "    }\n",
              "  }\n",
              "</style>\n",
              "\n",
              "  <script>\n",
              "    async function quickchart(key) {\n",
              "      const quickchartButtonEl =\n",
              "        document.querySelector('#' + key + ' button');\n",
              "      quickchartButtonEl.disabled = true;  // To prevent multiple clicks.\n",
              "      quickchartButtonEl.classList.add('colab-df-spinner');\n",
              "      try {\n",
              "        const charts = await google.colab.kernel.invokeFunction(\n",
              "            'suggestCharts', [key], {});\n",
              "      } catch (error) {\n",
              "        console.error('Error during call to suggestCharts:', error);\n",
              "      }\n",
              "      quickchartButtonEl.classList.remove('colab-df-spinner');\n",
              "      quickchartButtonEl.classList.add('colab-df-quickchart-complete');\n",
              "    }\n",
              "    (() => {\n",
              "      let quickchartButtonEl =\n",
              "        document.querySelector('#df-8fb19da7-bc99-44fc-872a-cacfddd33016 button');\n",
              "      quickchartButtonEl.style.display =\n",
              "        google.colab.kernel.accessAllowed ? 'block' : 'none';\n",
              "    })();\n",
              "  </script>\n",
              "</div>\n",
              "\n",
              "    </div>\n",
              "  </div>\n"
            ],
            "application/vnd.google.colaboratory.intrinsic+json": {
              "type": "dataframe",
              "variable_name": "df"
            }
          },
          "metadata": {},
          "execution_count": 7
        }
      ]
    },
    {
      "cell_type": "markdown",
      "source": [
        "Now that we have done the initial cleaning of our dataset, lets proceed forward and visualize how rat sightings compare across location, time, and income level.\n",
        "\n",
        "First, let's visualize how rat sightings compare across Zip Codes"
      ],
      "metadata": {
        "id": "yzYC3ZrdnfHp"
      }
    },
    {
      "cell_type": "markdown",
      "source": [
        "# Part 2: General EDA & Characteristics of Data\n",
        "\n",
        "\n"
      ],
      "metadata": {
        "id": "oW2b6wv3ntyK"
      }
    },
    {
      "cell_type": "code",
      "source": [
        "# Get unique values in 'Location Type'\n",
        "unique_location_types = df['Location Type'].unique()\n",
        "\n",
        "# Define mapping for residential categories\n",
        "residential_mapping = {\n",
        "    'Single Room Occupancy (SRO)': 'Single',\n",
        "    '1-2 Family Dwelling': '1-2 Family Apartment',\n",
        "    '1-2 FamilyDwelling': '1-2 Family Apartment',\n",
        "    '3+ Family Apt. Building': '3+ Family',\n",
        "    '3+ Family Apartment Building': '3+ Family',\n",
        "    '3+ Family Apt.': '3+ Family',\n",
        "    '3+Family Apt.': '3+ Family',\n",
        "    '3+ Family Apt': '3+ Family',\n",
        "    '1-3 Family Dwelling': '1-3 Family Dwelling',\n",
        "    '1-3 Family Mixed Use Building': '1-3 Family Mixed',\n",
        "    '1-2 Family Mixed Use Building': '1-2 Family Mixed',\n",
        "    '3+ Family Mixed Use Building': '3+ Family Mixed',\n",
        "    'Private House': 'Private House',\n",
        "    'Apartment': 'Apartment',\n",
        "    'Residential Property': 'Residential Property'\n",
        "}\n",
        "\n",
        "# Apply mapping to the 'Location Type' column for residential data\n",
        "df['Location Type'] = df['Location Type'].replace(residential_mapping)\n",
        "\n",
        "# Create the residential and non-residential DataFrames\n",
        "residential_df = df[df['Location Type'].isin(residential_mapping.values())]\n",
        "nonresidential_df = df[~df['Location Type'].isin(residential_mapping.values())]\n",
        "nonresidential_df = nonresidential_df[~nonresidential_df['Location Type'].isin(['Other', 'Other (Explain Below)'])]\n",
        "\n",
        "# Basic Data Exploration - residential vs nonresidential pie chart\n",
        "residential_count = residential_df.shape[0]\n",
        "nonresidential_count = nonresidential_df.shape[0]\n",
        "\n",
        "# Data for the pie chart\n",
        "labels = ['Residential', 'Non-Residential']\n",
        "sizes = [residential_count, nonresidential_count]\n",
        "colors = ['blue', 'purple']\n",
        "\n",
        "# Pie chart\n",
        "plt.figure(figsize=(8, 6))\n",
        "plt.pie(sizes, labels=labels, colors=colors, autopct='%1.1f%%', startangle=140)\n",
        "plt.title('Rat Sightings Proportion: Residential vs Non-Residential Areas')\n",
        "# Equal aspect ratio ensures that pie chart is drawn as a circle.\n",
        "plt.axis('equal')\n",
        "plt.show()"
      ],
      "metadata": {
        "colab": {
          "base_uri": "https://localhost:8080/",
          "height": 521
        },
        "id": "aC1mwYrfngJ1",
        "outputId": "cfbd7429-f2db-4adb-dadd-cd4c2a360b10"
      },
      "execution_count": 8,
      "outputs": [
        {
          "output_type": "display_data",
          "data": {
            "text/plain": [
              "<Figure size 800x600 with 1 Axes>"
            ],
            "image/png": "[encoded data removed]"
          },
          "metadata": {}
        }
      ]
    },
    {
      "cell_type": "markdown",
      "source": [
        "\n",
        "# Part 3: Rat Sightings over Time & Seasons"
      ],
      "metadata": {
        "id": "6RtnhoYqGZp-"
      }
    },
    {
      "cell_type": "markdown",
      "source": [
        "Extract the month, week, and day from the dates in the dataset."
      ],
      "metadata": {
        "id": "TmIF9_SYGqG6"
      }
    },
    {
      "cell_type": "code",
      "source": [
        "# Convert 'Created Date' to datetime format\n",
        "df['Created Date'] = pd.to_datetime(df['Created Date'])\n",
        "\n",
        "# Extract month, week, and day information\n",
        "df['Month'] = df['Created Date'].dt.month\n",
        "df['Week'] = df['Created Date'].dt.isocalendar().week\n",
        "df['Day'] = df['Created Date'].dt.day\n",
        "\n",
        "# Check the updated dataframe\n",
        "print(df[['Created Date', 'Month', 'Week', 'Day']].head())"
      ],
      "metadata": {
        "colab": {
          "base_uri": "https://localhost:8080/"
        },
        "id": "b6xsvPflDi5M",
        "outputId": "99e5ff90-a706-48e5-d985-d47232e6493b"
      },
      "execution_count": 10,
      "outputs": [
        {
          "output_type": "stream",
          "name": "stdout",
          "text": [
            "         Created Date  Month  Week  Day\n",
            "0 2024-05-31 00:10:00      5    22   31\n",
            "1 2024-06-01 15:01:00      6    22    1\n",
            "2 2024-06-06 10:08:00      6    23    6\n",
            "3 2024-06-25 11:34:00      6    26   25\n",
            "4 2024-06-27 10:48:00      6    26   27\n"
          ]
        }
      ]
    },
    {
      "cell_type": "markdown",
      "source": [
        "Visualize Rat sightings across Months"
      ],
      "metadata": {
        "id": "54jOCWmmG40Q"
      }
    },
    {
      "cell_type": "code",
      "source": [
        "# Count rat sightings per month\n",
        "rat_sightings_by_month = df['Month'].value_counts().sort_index()\n",
        "\n",
        "# Plot the results\n",
        "plt.figure(figsize=(10, 6))\n",
        "rat_sightings_by_month.plot(kind='bar')\n",
        "plt.title('Count of Rat Sightings per Month')\n",
        "plt.xlabel('Month')\n",
        "plt.ylabel('Number of Sightings')\n",
        "plt.xticks(rotation=0)\n",
        "plt.show()"
      ],
      "metadata": {
        "colab": {
          "base_uri": "https://localhost:8080/",
          "height": 564
        },
        "id": "QOg2yCA9DuSh",
        "outputId": "526bbd29-d06b-4533-8c30-5781335750eb"
      },
      "execution_count": 11,
      "outputs": [
        {
          "output_type": "display_data",
          "data": {
            "text/plain": [
              "<Figure size 1000x600 with 1 Axes>"
            ],
            "image/png": "[encoded data removed]"
          },
          "metadata": {}
        }
      ]
    },
    {
      "cell_type": "markdown",
      "source": [
        "## T-test: Summer vs Winter Rat Sightings"
      ],
      "metadata": {
        "id": "1Rc_Yll9G-It"
      }
    },
    {
      "cell_type": "code",
      "source": [
        "# Example: Compare rat sightings between Winter (Dec-Feb) and Summer (Jun-Aug)\n",
        "winter_months = [12, 1, 2]\n",
        "summer_months = [6, 7, 8]\n",
        "\n",
        "# Get sightings for winter and summer\n",
        "winter_sightings = df[df['Month'].isin(winter_months)]['Month'].count()\n",
        "summer_sightings = df[df['Month'].isin(summer_months)]['Month'].count()\n",
        "\n",
        "# Filter the data for winter and summer months\n",
        "winter_data = df[df['Month'].isin([12, 1, 2])]\n",
        "summer_data = df[df['Month'].isin([6, 7, 8])]\n"
      ],
      "metadata": {
        "id": "BmE0z27TDzZZ"
      },
      "execution_count": 12,
      "outputs": []
    },
    {
      "cell_type": "code",
      "source": [
        "# Check the length of data for both groups\n",
        "print(\"Winter sightings count:\", len(winter_data))\n",
        "print(\"Summer sightings count:\", len(summer_data))"
      ],
      "metadata": {
        "colab": {
          "base_uri": "https://localhost:8080/"
        },
        "id": "P19nXslaD7lS",
        "outputId": "0351582a-42c7-4c3f-dab1-437a6ce4975d"
      },
      "execution_count": 13,
      "outputs": [
        {
          "output_type": "stream",
          "name": "stdout",
          "text": [
            "Winter sightings count: 43219\n",
            "Summer sightings count: 83944\n"
          ]
        }
      ]
    },
    {
      "cell_type": "code",
      "source": [
        "# Check for NaN values in these groups\n",
        "print(\"NaN in winter data:\", winter_data.isna().sum())\n",
        "print(\"NaN in summer data:\", summer_data.isna().sum())\n",
        "\n",
        "# Drop rows with missing values in 'Incident Zip', 'Latitude', or 'Longitude'\n",
        "winter_data_clean = winter_data.dropna(subset=['Incident Zip', 'Latitude', 'Longitude'])\n",
        "summer_data_clean = summer_data.dropna(subset=['Incident Zip', 'Latitude', 'Longitude'])\n",
        "\n",
        "# Check cleaned data\n",
        "print(\"Cleaned winter data count:\", len(winter_data_clean))\n",
        "print(\"Cleaned summer data count:\", len(summer_data_clean))"
      ],
      "metadata": {
        "colab": {
          "base_uri": "https://localhost:8080/"
        },
        "id": "P3CsjQLYD9q6",
        "outputId": "c3c5820d-42fc-4b4f-d9a9-61a60282e8f3"
      },
      "execution_count": 14,
      "outputs": [
        {
          "output_type": "stream",
          "name": "stdout",
          "text": [
            "NaN in winter data: Created Date         0\n",
            "Location Type        4\n",
            "Incident Zip        54\n",
            "Community Board      0\n",
            "Borough              0\n",
            "Latitude           279\n",
            "Longitude          279\n",
            "Month                0\n",
            "Week                 0\n",
            "Day                  0\n",
            "dtype: int64\n",
            "NaN in summer data: Created Date         0\n",
            "Location Type        4\n",
            "Incident Zip       147\n",
            "Community Board      1\n",
            "Borough              1\n",
            "Latitude           967\n",
            "Longitude          967\n",
            "Month                0\n",
            "Week                 0\n",
            "Day                  0\n",
            "dtype: int64\n",
            "Cleaned winter data count: 42937\n",
            "Cleaned summer data count: 82972\n"
          ]
        }
      ]
    },
    {
      "cell_type": "markdown",
      "source": [
        "T test: T-test is only valid if the sample size is normally distributed and independent. By the Central Limit theorem, since the sizes of both datasets are over 30, a normal distribution can be assumed."
      ],
      "metadata": {
        "id": "0M0lL7tgERrT"
      }
    },
    {
      "cell_type": "code",
      "source": [
        "# Count the number of sightings per day in both seasons\n",
        "winter_sightings_per_day = winter_data_clean['Created Date'].dt.date.value_counts()\n",
        "summer_sightings_per_day = summer_data_clean['Created Date'].dt.date.value_counts()\n",
        "\n",
        "# Perform the t-test comparing the number of sightings per day in winter vs summer\n",
        "t_stat, p_value = stats.ttest_ind(winter_sightings_per_day, summer_sightings_per_day, equal_var=False)\n",
        "\n",
        "print(f'T-statistic: {t_stat}, P-value: {p_value}')"
      ],
      "metadata": {
        "colab": {
          "base_uri": "https://localhost:8080/"
        },
        "id": "mKkYqj8EEMSP",
        "outputId": "0cae102f-af79-4351-ee11-9dc3d0321bd6"
      },
      "execution_count": 15,
      "outputs": [
        {
          "output_type": "stream",
          "name": "stdout",
          "text": [
            "T-statistic: -32.51880858690508, P-value: 2.2571798235661205e-193\n"
          ]
        }
      ]
    },
    {
      "cell_type": "markdown",
      "source": [
        "# Part 3: Rat Sightings and Location"
      ],
      "metadata": {
        "id": "FVQyB09opsIT"
      }
    },
    {
      "cell_type": "markdown",
      "source": [
        "# ANOVA Test :  Zip Codes\n",
        "\n",
        "\n",
        "H0: There are no significant differences in rat sightings across boroughs\n",
        "\n",
        "H1: There are significant differences in rat sightings across boroughs\n",
        "\n",
        "\n",
        "We Reject the null hypothesis (H0) because the p-value is less than the alpha value of 0.05."
      ],
      "metadata": {
        "id": "bDLZbhk1Rt6F"
      }
    },
    {
      "cell_type": "code",
      "source": [
        "from scipy import stats\n",
        "\n",
        "sightings_per_zip = df.groupby(['Borough', 'Incident Zip']).size().reset_index(name='Sightings')\n",
        "\n",
        "# group by Borough to prepare for ANOVA\n",
        "sightings_by_borough = sightings_per_zip.groupby('Borough')['Sightings'].apply(list).reset_index()\n",
        "print(sightings_by_borough)\n",
        "\n",
        "# Extracting sightings lists for each borough\n",
        "borough_groups = sightings_by_borough['Sightings'].tolist()\n",
        "\n",
        "# Perform ANOVA\n",
        "f_statistic, p_value = stats.f_oneway(*borough_groups)\n",
        "\n",
        "print(f'P-value: {p_value}')"
      ],
      "metadata": {
        "colab": {
          "base_uri": "https://localhost:8080/"
        },
        "id": "1AHT6Q4uR6EB",
        "outputId": "5a6ded7d-a12d-4ff1-e01a-9fa6affaf3f1"
      },
      "execution_count": 16,
      "outputs": [
        {
          "output_type": "stream",
          "name": "stdout",
          "text": [
            "         Borough                                          Sightings\n",
            "0          BRONX  [1, 1802, 2529, 2659, 1310, 1861, 3680, 3144, ...\n",
            "1       BROOKLYN  [1, 1, 2003, 1, 2276, 743, 2767, 3768, 3835, 2...\n",
            "2      MANHATTAN  [26, 8, 926, 2502, 1726, 103, 108, 169, 418, 2...\n",
            "3         QUEENS  [91, 67, 18, 1414, 807, 1218, 791, 1247, 882, ...\n",
            "4  STATEN ISLAND  [1038, 593, 645, 827, 902, 1210, 181, 591, 422...\n",
            "P-value: 7.823436243703136e-08\n"
          ]
        }
      ]
    },
    {
      "cell_type": "markdown",
      "source": [
        "Next, let's visualize the results of the ANOVA Test."
      ],
      "metadata": {
        "id": "xfLT-gJbbvsZ"
      }
    },
    {
      "cell_type": "code",
      "source": [
        "import matplotlib.pyplot as plt\n",
        "import seaborn as sns\n",
        "\n",
        "plt.figure(figsize=(12, 6))\n",
        "sns.boxplot(x='Borough', y='Sightings', data=sightings_per_zip)\n",
        "plt.title('Box Plot of Rat Sightings by Borough')\n",
        "plt.xlabel('Borough')\n",
        "plt.ylabel('Number of Rat Sightings')\n",
        "plt.xticks(rotation=45)\n",
        "plt.show()\n"
      ],
      "metadata": {
        "colab": {
          "base_uri": "https://localhost:8080/",
          "height": 636
        },
        "id": "Dp6TnpXjbvJO",
        "outputId": "a5ffefc4-5796-4465-f751-1c943b321c5c"
      },
      "execution_count": 17,
      "outputs": [
        {
          "output_type": "display_data",
          "data": {
            "text/plain": [
              "<Figure size 1200x600 with 1 Axes>"
            ],
            "image/png": "[encoded data removed]"
          },
          "metadata": {}
        }
      ]
    },
    {
      "cell_type": "markdown",
      "source": [
        "### Post-hoc Test: Turkey's HSD Test\n",
        "\n"
      ],
      "metadata": {
        "id": "146I3tMIahKv"
      }
    },
    {
      "cell_type": "code",
      "source": [
        "import matplotlib.pyplot as plt\n",
        "from statsmodels.stats.multicomp import pairwise_tukeyhsd\n",
        "\n",
        "long_df = sightings_per_zip[['Borough', 'Sightings']].copy()\n",
        "long_df = long_df.explode('Sightings').reset_index(drop=True)\n",
        "long_df['Sightings'] = pd.to_numeric(long_df['Sightings'], errors='coerce')\n",
        "\n",
        "# Perform Tukey's HSD test\n",
        "tukey_results = pairwise_tukeyhsd(long_df['Sightings'], long_df['Borough'], alpha=0.05)\n",
        "print(tukey_results)\n"
      ],
      "metadata": {
        "colab": {
          "base_uri": "https://localhost:8080/"
        },
        "id": "3Zl_qMfrVS6K",
        "outputId": "ffb0c084-e730-4bac-a3af-33e7bdd19a2a"
      },
      "execution_count": 18,
      "outputs": [
        {
          "output_type": "stream",
          "name": "stdout",
          "text": [
            "         Multiple Comparison of Means - Tukey HSD, FWER=0.05         \n",
            "=====================================================================\n",
            "  group1      group2     meandiff  p-adj    lower      upper   reject\n",
            "---------------------------------------------------------------------\n",
            "    BRONX      BROOKLYN   509.2754 0.3984  -285.6432 1304.1939  False\n",
            "    BRONX     MANHATTAN  -543.0392 0.2637 -1285.4655  199.3871  False\n",
            "    BRONX        QUEENS  -925.4091 0.0068  -1671.271 -179.5472   True\n",
            "    BRONX STATEN ISLAND  -757.4872 0.3463 -1882.2406  367.2662  False\n",
            " BROOKLYN     MANHATTAN -1052.3146 0.0001 -1698.9722 -405.6569   True\n",
            " BROOKLYN        QUEENS -1434.6845    0.0 -2085.2836 -784.0853   True\n",
            " BROOKLYN STATEN ISLAND -1266.7625 0.0107  -2330.736 -202.7891   True\n",
            "MANHATTAN        QUEENS  -382.3699 0.3779  -967.6737  202.9339  False\n",
            "MANHATTAN STATEN ISLAND   -214.448 0.9786 -1239.7971  810.9011  False\n",
            "   QUEENS STATEN ISLAND   167.9219 0.9915  -859.9175 1195.7614  False\n",
            "---------------------------------------------------------------------\n"
          ]
        }
      ]
    },
    {
      "cell_type": "markdown",
      "source": [
        "The results suggest that Brooklyn has significantly lower rat sightings compared to boroughs such as Manhattan, Queens, and Staten Island.\n",
        "\n",
        "The results do not suggest significant differences in sightings between Bronx and Brooklyn, or between some other borough pairs."
      ],
      "metadata": {
        "id": "9S7TwG1gbSrz"
      }
    }
  ]
}